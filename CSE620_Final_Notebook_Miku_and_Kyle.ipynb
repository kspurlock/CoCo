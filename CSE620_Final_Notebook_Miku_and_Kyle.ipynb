{
  "cells": [
    {
      "cell_type": "markdown",
      "metadata": {
        "id": "i4DIklhkgTC3"
      },
      "source": [
        "# Generating Fair Counterfactuals by Uncovering Protected Attributes Through Cooperative Co-evolution\n",
        "---\n",
        "Kyle Spurlock & Miku Fukuyama\n",
        "\n",
        "University of Louisville\n",
        "\n",
        "CSE620 Fall 2022"
      ]
    },
    {
      "cell_type": "markdown",
      "metadata": {
        "id": "P6rdGeW5eNCp"
      },
      "source": [
        "# Data"
      ]
    },
    {
      "cell_type": "code",
      "execution_count": null,
      "metadata": {
        "colab": {
          "base_uri": "https://localhost:8080/"
        },
        "id": "QH-G5cFPYh4Y",
        "outputId": "39b6e8ff-4230-47c2-c670-b2b7107588b9"
      },
      "outputs": [
        {
          "name": "stdout",
          "output_type": "stream",
          "text": [
            "--2022-12-14 17:59:29--  https://raw.githubusercontent.com/kspurlock/ChWeiMo/main/tests/data/german_credit_data.csv\n",
            "Resolving raw.githubusercontent.com (raw.githubusercontent.com)... 185.199.110.133, 185.199.109.133, 185.199.108.133, ...\n",
            "Connecting to raw.githubusercontent.com (raw.githubusercontent.com)|185.199.110.133|:443... connected.\n",
            "HTTP request sent, awaiting response... 200 OK\n",
            "Length: 53393 (52K) [text/plain]\n",
            "Saving to: ‘german_credit_data.csv’\n",
            "\n",
            "german_credit_data. 100%[===================>]  52.14K  --.-KB/s    in 0.01s   \n",
            "\n",
            "2022-12-14 17:59:30 (4.86 MB/s) - ‘german_credit_data.csv’ saved [53393/53393]\n",
            "\n"
          ]
        }
      ],
      "source": [
        "!wget https://raw.githubusercontent.com/kspurlock/ChWeiMo/main/tests/data/german_credit_data.csv"
      ]
    },
    {
      "cell_type": "code",
      "execution_count": null,
      "metadata": {
        "colab": {
          "base_uri": "https://localhost:8080/"
        },
        "id": "AUlqFEFh3-c1",
        "outputId": "fc5dd8f2-2b6e-4cdf-a785-7f75356c9d5a"
      },
      "outputs": [
        {
          "name": "stdout",
          "output_type": "stream",
          "text": [
            "Looking in indexes: https://pypi.org/simple, https://us-python.pkg.dev/colab-wheels/public/simple/\n",
            "Collecting dice_ml\n",
            "  Downloading dice_ml-0.9-py3-none-any.whl (2.6 MB)\n",
            "\u001b[K     |████████████████████████████████| 2.6 MB 5.0 MB/s \n",
            "\u001b[?25hRequirement already satisfied: scikit-learn in /usr/local/lib/python3.8/dist-packages (from dice_ml) (1.0.2)\n",
            "Requirement already satisfied: tqdm in /usr/local/lib/python3.8/dist-packages (from dice_ml) (4.64.1)\n",
            "Requirement already satisfied: h5py in /usr/local/lib/python3.8/dist-packages (from dice_ml) (3.1.0)\n",
            "Requirement already satisfied: jsonschema in /usr/local/lib/python3.8/dist-packages (from dice_ml) (4.3.3)\n",
            "Requirement already satisfied: pandas in /usr/local/lib/python3.8/dist-packages (from dice_ml) (1.3.5)\n",
            "Requirement already satisfied: numpy in /usr/local/lib/python3.8/dist-packages (from dice_ml) (1.21.6)\n",
            "Requirement already satisfied: pyrsistent!=0.17.0,!=0.17.1,!=0.17.2,>=0.14.0 in /usr/local/lib/python3.8/dist-packages (from jsonschema->dice_ml) (0.19.2)\n",
            "Requirement already satisfied: attrs>=17.4.0 in /usr/local/lib/python3.8/dist-packages (from jsonschema->dice_ml) (22.1.0)\n",
            "Requirement already satisfied: importlib-resources>=1.4.0 in /usr/local/lib/python3.8/dist-packages (from jsonschema->dice_ml) (5.10.0)\n",
            "Requirement already satisfied: zipp>=3.1.0 in /usr/local/lib/python3.8/dist-packages (from importlib-resources>=1.4.0->jsonschema->dice_ml) (3.11.0)\n",
            "Requirement already satisfied: python-dateutil>=2.7.3 in /usr/local/lib/python3.8/dist-packages (from pandas->dice_ml) (2.8.2)\n",
            "Requirement already satisfied: pytz>=2017.3 in /usr/local/lib/python3.8/dist-packages (from pandas->dice_ml) (2022.6)\n",
            "Requirement already satisfied: six>=1.5 in /usr/local/lib/python3.8/dist-packages (from python-dateutil>=2.7.3->pandas->dice_ml) (1.15.0)\n",
            "Requirement already satisfied: joblib>=0.11 in /usr/local/lib/python3.8/dist-packages (from scikit-learn->dice_ml) (1.2.0)\n",
            "Requirement already satisfied: scipy>=1.1.0 in /usr/local/lib/python3.8/dist-packages (from scikit-learn->dice_ml) (1.7.3)\n",
            "Requirement already satisfied: threadpoolctl>=2.0.0 in /usr/local/lib/python3.8/dist-packages (from scikit-learn->dice_ml) (3.1.0)\n",
            "Installing collected packages: dice-ml\n",
            "Successfully installed dice-ml-0.9\n"
          ]
        }
      ],
      "source": [
        "!pip install dice_ml"
      ]
    },
    {
      "cell_type": "code",
      "execution_count": null,
      "metadata": {
        "id": "0qPld0aYjS8e"
      },
      "outputs": [],
      "source": [
        "import pandas as pd\n",
        "import numpy as np\n",
        "import matplotlib.pyplot as plt\n",
        "import functools\n",
        "import tqdm\n",
        "import copy"
      ]
    },
    {
      "cell_type": "code",
      "execution_count": null,
      "metadata": {
        "colab": {
          "base_uri": "https://localhost:8080/",
          "height": 206
        },
        "id": "acRNKtAPkh_m",
        "outputId": "1452ff8f-878e-469d-dabc-caba9e55cba7"
      },
      "outputs": [
        {
          "data": {
            "text/html": [
              "\n",
              "  <div id=\"df-6b45037b-46d2-42da-b2fa-4a7d31a93848\">\n",
              "    <div class=\"colab-df-container\">\n",
              "      <div>\n",
              "<style scoped>\n",
              "    .dataframe tbody tr th:only-of-type {\n",
              "        vertical-align: middle;\n",
              "    }\n",
              "\n",
              "    .dataframe tbody tr th {\n",
              "        vertical-align: top;\n",
              "    }\n",
              "\n",
              "    .dataframe thead th {\n",
              "        text-align: right;\n",
              "    }\n",
              "</style>\n",
              "<table border=\"1\" class=\"dataframe\">\n",
              "  <thead>\n",
              "    <tr style=\"text-align: right;\">\n",
              "      <th></th>\n",
              "      <th>Age</th>\n",
              "      <th>Sex</th>\n",
              "      <th>Job</th>\n",
              "      <th>Housing</th>\n",
              "      <th>Saving accounts</th>\n",
              "      <th>Checking account</th>\n",
              "      <th>Credit amount</th>\n",
              "      <th>Duration</th>\n",
              "      <th>Purpose</th>\n",
              "      <th>Risk</th>\n",
              "    </tr>\n",
              "  </thead>\n",
              "  <tbody>\n",
              "    <tr>\n",
              "      <th>0</th>\n",
              "      <td>67</td>\n",
              "      <td>male</td>\n",
              "      <td>2</td>\n",
              "      <td>own</td>\n",
              "      <td>NaN</td>\n",
              "      <td>little</td>\n",
              "      <td>1169</td>\n",
              "      <td>6</td>\n",
              "      <td>radio/TV</td>\n",
              "      <td>good</td>\n",
              "    </tr>\n",
              "    <tr>\n",
              "      <th>1</th>\n",
              "      <td>22</td>\n",
              "      <td>female</td>\n",
              "      <td>2</td>\n",
              "      <td>own</td>\n",
              "      <td>little</td>\n",
              "      <td>moderate</td>\n",
              "      <td>5951</td>\n",
              "      <td>48</td>\n",
              "      <td>radio/TV</td>\n",
              "      <td>bad</td>\n",
              "    </tr>\n",
              "    <tr>\n",
              "      <th>2</th>\n",
              "      <td>49</td>\n",
              "      <td>male</td>\n",
              "      <td>1</td>\n",
              "      <td>own</td>\n",
              "      <td>little</td>\n",
              "      <td>NaN</td>\n",
              "      <td>2096</td>\n",
              "      <td>12</td>\n",
              "      <td>education</td>\n",
              "      <td>good</td>\n",
              "    </tr>\n",
              "    <tr>\n",
              "      <th>3</th>\n",
              "      <td>45</td>\n",
              "      <td>male</td>\n",
              "      <td>2</td>\n",
              "      <td>free</td>\n",
              "      <td>little</td>\n",
              "      <td>little</td>\n",
              "      <td>7882</td>\n",
              "      <td>42</td>\n",
              "      <td>furniture/equipment</td>\n",
              "      <td>good</td>\n",
              "    </tr>\n",
              "    <tr>\n",
              "      <th>4</th>\n",
              "      <td>53</td>\n",
              "      <td>male</td>\n",
              "      <td>2</td>\n",
              "      <td>free</td>\n",
              "      <td>little</td>\n",
              "      <td>little</td>\n",
              "      <td>4870</td>\n",
              "      <td>24</td>\n",
              "      <td>car</td>\n",
              "      <td>bad</td>\n",
              "    </tr>\n",
              "  </tbody>\n",
              "</table>\n",
              "</div>\n",
              "      <button class=\"colab-df-convert\" onclick=\"convertToInteractive('df-6b45037b-46d2-42da-b2fa-4a7d31a93848')\"\n",
              "              title=\"Convert this dataframe to an interactive table.\"\n",
              "              style=\"display:none;\">\n",
              "        \n",
              "  <svg xmlns=\"http://www.w3.org/2000/svg\" height=\"24px\"viewBox=\"0 0 24 24\"\n",
              "       width=\"24px\">\n",
              "    <path d=\"M0 0h24v24H0V0z\" fill=\"none\"/>\n",
              "    <path d=\"M18.56 5.44l.94 2.06.94-2.06 2.06-.94-2.06-.94-.94-2.06-.94 2.06-2.06.94zm-11 1L8.5 8.5l.94-2.06 2.06-.94-2.06-.94L8.5 2.5l-.94 2.06-2.06.94zm10 10l.94 2.06.94-2.06 2.06-.94-2.06-.94-.94-2.06-.94 2.06-2.06.94z\"/><path d=\"M17.41 7.96l-1.37-1.37c-.4-.4-.92-.59-1.43-.59-.52 0-1.04.2-1.43.59L10.3 9.45l-7.72 7.72c-.78.78-.78 2.05 0 2.83L4 21.41c.39.39.9.59 1.41.59.51 0 1.02-.2 1.41-.59l7.78-7.78 2.81-2.81c.8-.78.8-2.07 0-2.86zM5.41 20L4 18.59l7.72-7.72 1.47 1.35L5.41 20z\"/>\n",
              "  </svg>\n",
              "      </button>\n",
              "      \n",
              "  <style>\n",
              "    .colab-df-container {\n",
              "      display:flex;\n",
              "      flex-wrap:wrap;\n",
              "      gap: 12px;\n",
              "    }\n",
              "\n",
              "    .colab-df-convert {\n",
              "      background-color: #E8F0FE;\n",
              "      border: none;\n",
              "      border-radius: 50%;\n",
              "      cursor: pointer;\n",
              "      display: none;\n",
              "      fill: #1967D2;\n",
              "      height: 32px;\n",
              "      padding: 0 0 0 0;\n",
              "      width: 32px;\n",
              "    }\n",
              "\n",
              "    .colab-df-convert:hover {\n",
              "      background-color: #E2EBFA;\n",
              "      box-shadow: 0px 1px 2px rgba(60, 64, 67, 0.3), 0px 1px 3px 1px rgba(60, 64, 67, 0.15);\n",
              "      fill: #174EA6;\n",
              "    }\n",
              "\n",
              "    [theme=dark] .colab-df-convert {\n",
              "      background-color: #3B4455;\n",
              "      fill: #D2E3FC;\n",
              "    }\n",
              "\n",
              "    [theme=dark] .colab-df-convert:hover {\n",
              "      background-color: #434B5C;\n",
              "      box-shadow: 0px 1px 3px 1px rgba(0, 0, 0, 0.15);\n",
              "      filter: drop-shadow(0px 1px 2px rgba(0, 0, 0, 0.3));\n",
              "      fill: #FFFFFF;\n",
              "    }\n",
              "  </style>\n",
              "\n",
              "      <script>\n",
              "        const buttonEl =\n",
              "          document.querySelector('#df-6b45037b-46d2-42da-b2fa-4a7d31a93848 button.colab-df-convert');\n",
              "        buttonEl.style.display =\n",
              "          google.colab.kernel.accessAllowed ? 'block' : 'none';\n",
              "\n",
              "        async function convertToInteractive(key) {\n",
              "          const element = document.querySelector('#df-6b45037b-46d2-42da-b2fa-4a7d31a93848');\n",
              "          const dataTable =\n",
              "            await google.colab.kernel.invokeFunction('convertToInteractive',\n",
              "                                                     [key], {});\n",
              "          if (!dataTable) return;\n",
              "\n",
              "          const docLinkHtml = 'Like what you see? Visit the ' +\n",
              "            '<a target=\"_blank\" href=https://colab.research.google.com/notebooks/data_table.ipynb>data table notebook</a>'\n",
              "            + ' to learn more about interactive tables.';\n",
              "          element.innerHTML = '';\n",
              "          dataTable['output_type'] = 'display_data';\n",
              "          await google.colab.output.renderOutput(dataTable, element);\n",
              "          const docLink = document.createElement('div');\n",
              "          docLink.innerHTML = docLinkHtml;\n",
              "          element.appendChild(docLink);\n",
              "        }\n",
              "      </script>\n",
              "    </div>\n",
              "  </div>\n",
              "  "
            ],
            "text/plain": [
              "   Age     Sex  Job Housing Saving accounts Checking account  Credit amount  \\\n",
              "0   67    male    2     own             NaN           little           1169   \n",
              "1   22  female    2     own          little         moderate           5951   \n",
              "2   49    male    1     own          little              NaN           2096   \n",
              "3   45    male    2    free          little           little           7882   \n",
              "4   53    male    2    free          little           little           4870   \n",
              "\n",
              "   Duration              Purpose  Risk  \n",
              "0         6             radio/TV  good  \n",
              "1        48             radio/TV   bad  \n",
              "2        12            education  good  \n",
              "3        42  furniture/equipment  good  \n",
              "4        24                  car   bad  "
            ]
          },
          "execution_count": 4,
          "metadata": {},
          "output_type": "execute_result"
        }
      ],
      "source": [
        "data = pd.read_csv(\"/content/german_credit_data.csv\", delimiter=\",\").drop(\"Unnamed: 0\", axis=1)\n",
        "data.head()"
      ]
    },
    {
      "cell_type": "markdown",
      "metadata": {
        "id": "KU4SDuvHTGD3"
      },
      "source": [
        "For future reference, good credit risk (what we want) is encoded as 1, bad credit risk is encoded as 0."
      ]
    },
    {
      "cell_type": "markdown",
      "metadata": {
        "id": "5j-fYEn_yFhx"
      },
      "source": [
        "# ML Part"
      ]
    },
    {
      "cell_type": "markdown",
      "metadata": {
        "id": "gFxWJZycsiwd"
      },
      "source": [
        "## Preprocessing"
      ]
    },
    {
      "cell_type": "code",
      "execution_count": null,
      "metadata": {
        "id": "SdJVzGy2sWjV"
      },
      "outputs": [],
      "source": [
        "from sklearn.preprocessing import LabelEncoder\n",
        "\n",
        "lb =  LabelEncoder()\n",
        "\n",
        "for column in data.columns:\n",
        "    if data[column].dtype != np.dtype(\"int64\"):\n",
        "        data[column] = lb.fit_transform(data[column])"
      ]
    },
    {
      "cell_type": "code",
      "execution_count": null,
      "metadata": {
        "colab": {
          "base_uri": "https://localhost:8080/",
          "height": 206
        },
        "id": "zAdUa8CEuXJb",
        "outputId": "227b19ca-060c-4732-9f62-936e65fb045f"
      },
      "outputs": [
        {
          "data": {
            "text/html": [
              "\n",
              "  <div id=\"df-c89ef9ff-cc8f-4a81-b52b-5e152f9f13bf\">\n",
              "    <div class=\"colab-df-container\">\n",
              "      <div>\n",
              "<style scoped>\n",
              "    .dataframe tbody tr th:only-of-type {\n",
              "        vertical-align: middle;\n",
              "    }\n",
              "\n",
              "    .dataframe tbody tr th {\n",
              "        vertical-align: top;\n",
              "    }\n",
              "\n",
              "    .dataframe thead th {\n",
              "        text-align: right;\n",
              "    }\n",
              "</style>\n",
              "<table border=\"1\" class=\"dataframe\">\n",
              "  <thead>\n",
              "    <tr style=\"text-align: right;\">\n",
              "      <th></th>\n",
              "      <th>Age</th>\n",
              "      <th>Sex</th>\n",
              "      <th>Job</th>\n",
              "      <th>Housing</th>\n",
              "      <th>Saving accounts</th>\n",
              "      <th>Checking account</th>\n",
              "      <th>Credit amount</th>\n",
              "      <th>Duration</th>\n",
              "      <th>Purpose</th>\n",
              "    </tr>\n",
              "  </thead>\n",
              "  <tbody>\n",
              "    <tr>\n",
              "      <th>0</th>\n",
              "      <td>67</td>\n",
              "      <td>1</td>\n",
              "      <td>2</td>\n",
              "      <td>1</td>\n",
              "      <td>4</td>\n",
              "      <td>0</td>\n",
              "      <td>1169</td>\n",
              "      <td>6</td>\n",
              "      <td>5</td>\n",
              "    </tr>\n",
              "    <tr>\n",
              "      <th>1</th>\n",
              "      <td>22</td>\n",
              "      <td>0</td>\n",
              "      <td>2</td>\n",
              "      <td>1</td>\n",
              "      <td>0</td>\n",
              "      <td>1</td>\n",
              "      <td>5951</td>\n",
              "      <td>48</td>\n",
              "      <td>5</td>\n",
              "    </tr>\n",
              "    <tr>\n",
              "      <th>2</th>\n",
              "      <td>49</td>\n",
              "      <td>1</td>\n",
              "      <td>1</td>\n",
              "      <td>1</td>\n",
              "      <td>0</td>\n",
              "      <td>3</td>\n",
              "      <td>2096</td>\n",
              "      <td>12</td>\n",
              "      <td>3</td>\n",
              "    </tr>\n",
              "    <tr>\n",
              "      <th>3</th>\n",
              "      <td>45</td>\n",
              "      <td>1</td>\n",
              "      <td>2</td>\n",
              "      <td>0</td>\n",
              "      <td>0</td>\n",
              "      <td>0</td>\n",
              "      <td>7882</td>\n",
              "      <td>42</td>\n",
              "      <td>4</td>\n",
              "    </tr>\n",
              "    <tr>\n",
              "      <th>4</th>\n",
              "      <td>53</td>\n",
              "      <td>1</td>\n",
              "      <td>2</td>\n",
              "      <td>0</td>\n",
              "      <td>0</td>\n",
              "      <td>0</td>\n",
              "      <td>4870</td>\n",
              "      <td>24</td>\n",
              "      <td>1</td>\n",
              "    </tr>\n",
              "  </tbody>\n",
              "</table>\n",
              "</div>\n",
              "      <button class=\"colab-df-convert\" onclick=\"convertToInteractive('df-c89ef9ff-cc8f-4a81-b52b-5e152f9f13bf')\"\n",
              "              title=\"Convert this dataframe to an interactive table.\"\n",
              "              style=\"display:none;\">\n",
              "        \n",
              "  <svg xmlns=\"http://www.w3.org/2000/svg\" height=\"24px\"viewBox=\"0 0 24 24\"\n",
              "       width=\"24px\">\n",
              "    <path d=\"M0 0h24v24H0V0z\" fill=\"none\"/>\n",
              "    <path d=\"M18.56 5.44l.94 2.06.94-2.06 2.06-.94-2.06-.94-.94-2.06-.94 2.06-2.06.94zm-11 1L8.5 8.5l.94-2.06 2.06-.94-2.06-.94L8.5 2.5l-.94 2.06-2.06.94zm10 10l.94 2.06.94-2.06 2.06-.94-2.06-.94-.94-2.06-.94 2.06-2.06.94z\"/><path d=\"M17.41 7.96l-1.37-1.37c-.4-.4-.92-.59-1.43-.59-.52 0-1.04.2-1.43.59L10.3 9.45l-7.72 7.72c-.78.78-.78 2.05 0 2.83L4 21.41c.39.39.9.59 1.41.59.51 0 1.02-.2 1.41-.59l7.78-7.78 2.81-2.81c.8-.78.8-2.07 0-2.86zM5.41 20L4 18.59l7.72-7.72 1.47 1.35L5.41 20z\"/>\n",
              "  </svg>\n",
              "      </button>\n",
              "      \n",
              "  <style>\n",
              "    .colab-df-container {\n",
              "      display:flex;\n",
              "      flex-wrap:wrap;\n",
              "      gap: 12px;\n",
              "    }\n",
              "\n",
              "    .colab-df-convert {\n",
              "      background-color: #E8F0FE;\n",
              "      border: none;\n",
              "      border-radius: 50%;\n",
              "      cursor: pointer;\n",
              "      display: none;\n",
              "      fill: #1967D2;\n",
              "      height: 32px;\n",
              "      padding: 0 0 0 0;\n",
              "      width: 32px;\n",
              "    }\n",
              "\n",
              "    .colab-df-convert:hover {\n",
              "      background-color: #E2EBFA;\n",
              "      box-shadow: 0px 1px 2px rgba(60, 64, 67, 0.3), 0px 1px 3px 1px rgba(60, 64, 67, 0.15);\n",
              "      fill: #174EA6;\n",
              "    }\n",
              "\n",
              "    [theme=dark] .colab-df-convert {\n",
              "      background-color: #3B4455;\n",
              "      fill: #D2E3FC;\n",
              "    }\n",
              "\n",
              "    [theme=dark] .colab-df-convert:hover {\n",
              "      background-color: #434B5C;\n",
              "      box-shadow: 0px 1px 3px 1px rgba(0, 0, 0, 0.15);\n",
              "      filter: drop-shadow(0px 1px 2px rgba(0, 0, 0, 0.3));\n",
              "      fill: #FFFFFF;\n",
              "    }\n",
              "  </style>\n",
              "\n",
              "      <script>\n",
              "        const buttonEl =\n",
              "          document.querySelector('#df-c89ef9ff-cc8f-4a81-b52b-5e152f9f13bf button.colab-df-convert');\n",
              "        buttonEl.style.display =\n",
              "          google.colab.kernel.accessAllowed ? 'block' : 'none';\n",
              "\n",
              "        async function convertToInteractive(key) {\n",
              "          const element = document.querySelector('#df-c89ef9ff-cc8f-4a81-b52b-5e152f9f13bf');\n",
              "          const dataTable =\n",
              "            await google.colab.kernel.invokeFunction('convertToInteractive',\n",
              "                                                     [key], {});\n",
              "          if (!dataTable) return;\n",
              "\n",
              "          const docLinkHtml = 'Like what you see? Visit the ' +\n",
              "            '<a target=\"_blank\" href=https://colab.research.google.com/notebooks/data_table.ipynb>data table notebook</a>'\n",
              "            + ' to learn more about interactive tables.';\n",
              "          element.innerHTML = '';\n",
              "          dataTable['output_type'] = 'display_data';\n",
              "          await google.colab.output.renderOutput(dataTable, element);\n",
              "          const docLink = document.createElement('div');\n",
              "          docLink.innerHTML = docLinkHtml;\n",
              "          element.appendChild(docLink);\n",
              "        }\n",
              "      </script>\n",
              "    </div>\n",
              "  </div>\n",
              "  "
            ],
            "text/plain": [
              "   Age  Sex  Job  Housing  Saving accounts  Checking account  Credit amount  \\\n",
              "0   67    1    2        1                4                 0           1169   \n",
              "1   22    0    2        1                0                 1           5951   \n",
              "2   49    1    1        1                0                 3           2096   \n",
              "3   45    1    2        0                0                 0           7882   \n",
              "4   53    1    2        0                0                 0           4870   \n",
              "\n",
              "   Duration  Purpose  \n",
              "0         6        5  \n",
              "1        48        5  \n",
              "2        12        3  \n",
              "3        42        4  \n",
              "4        24        1  "
            ]
          },
          "execution_count": 6,
          "metadata": {},
          "output_type": "execute_result"
        }
      ],
      "source": [
        "X = data.iloc[:, :-1]\n",
        "y = data.iloc[:, [-1]]\n",
        "columns = X.columns.values\n",
        "X.head()"
      ]
    },
    {
      "cell_type": "code",
      "execution_count": null,
      "metadata": {
        "colab": {
          "base_uri": "https://localhost:8080/",
          "height": 424
        },
        "id": "goKPFAITxLiW",
        "outputId": "cd522a90-1dda-4093-b96d-27185f9e55a2"
      },
      "outputs": [
        {
          "data": {
            "text/html": [
              "\n",
              "  <div id=\"df-2c1beaec-7ef6-4f11-8e28-964b443507e4\">\n",
              "    <div class=\"colab-df-container\">\n",
              "      <div>\n",
              "<style scoped>\n",
              "    .dataframe tbody tr th:only-of-type {\n",
              "        vertical-align: middle;\n",
              "    }\n",
              "\n",
              "    .dataframe tbody tr th {\n",
              "        vertical-align: top;\n",
              "    }\n",
              "\n",
              "    .dataframe thead th {\n",
              "        text-align: right;\n",
              "    }\n",
              "</style>\n",
              "<table border=\"1\" class=\"dataframe\">\n",
              "  <thead>\n",
              "    <tr style=\"text-align: right;\">\n",
              "      <th></th>\n",
              "      <th>Risk</th>\n",
              "    </tr>\n",
              "  </thead>\n",
              "  <tbody>\n",
              "    <tr>\n",
              "      <th>0</th>\n",
              "      <td>1</td>\n",
              "    </tr>\n",
              "    <tr>\n",
              "      <th>1</th>\n",
              "      <td>0</td>\n",
              "    </tr>\n",
              "    <tr>\n",
              "      <th>2</th>\n",
              "      <td>1</td>\n",
              "    </tr>\n",
              "    <tr>\n",
              "      <th>3</th>\n",
              "      <td>1</td>\n",
              "    </tr>\n",
              "    <tr>\n",
              "      <th>4</th>\n",
              "      <td>0</td>\n",
              "    </tr>\n",
              "    <tr>\n",
              "      <th>...</th>\n",
              "      <td>...</td>\n",
              "    </tr>\n",
              "    <tr>\n",
              "      <th>995</th>\n",
              "      <td>1</td>\n",
              "    </tr>\n",
              "    <tr>\n",
              "      <th>996</th>\n",
              "      <td>1</td>\n",
              "    </tr>\n",
              "    <tr>\n",
              "      <th>997</th>\n",
              "      <td>1</td>\n",
              "    </tr>\n",
              "    <tr>\n",
              "      <th>998</th>\n",
              "      <td>0</td>\n",
              "    </tr>\n",
              "    <tr>\n",
              "      <th>999</th>\n",
              "      <td>1</td>\n",
              "    </tr>\n",
              "  </tbody>\n",
              "</table>\n",
              "<p>1000 rows × 1 columns</p>\n",
              "</div>\n",
              "      <button class=\"colab-df-convert\" onclick=\"convertToInteractive('df-2c1beaec-7ef6-4f11-8e28-964b443507e4')\"\n",
              "              title=\"Convert this dataframe to an interactive table.\"\n",
              "              style=\"display:none;\">\n",
              "        \n",
              "  <svg xmlns=\"http://www.w3.org/2000/svg\" height=\"24px\"viewBox=\"0 0 24 24\"\n",
              "       width=\"24px\">\n",
              "    <path d=\"M0 0h24v24H0V0z\" fill=\"none\"/>\n",
              "    <path d=\"M18.56 5.44l.94 2.06.94-2.06 2.06-.94-2.06-.94-.94-2.06-.94 2.06-2.06.94zm-11 1L8.5 8.5l.94-2.06 2.06-.94-2.06-.94L8.5 2.5l-.94 2.06-2.06.94zm10 10l.94 2.06.94-2.06 2.06-.94-2.06-.94-.94-2.06-.94 2.06-2.06.94z\"/><path d=\"M17.41 7.96l-1.37-1.37c-.4-.4-.92-.59-1.43-.59-.52 0-1.04.2-1.43.59L10.3 9.45l-7.72 7.72c-.78.78-.78 2.05 0 2.83L4 21.41c.39.39.9.59 1.41.59.51 0 1.02-.2 1.41-.59l7.78-7.78 2.81-2.81c.8-.78.8-2.07 0-2.86zM5.41 20L4 18.59l7.72-7.72 1.47 1.35L5.41 20z\"/>\n",
              "  </svg>\n",
              "      </button>\n",
              "      \n",
              "  <style>\n",
              "    .colab-df-container {\n",
              "      display:flex;\n",
              "      flex-wrap:wrap;\n",
              "      gap: 12px;\n",
              "    }\n",
              "\n",
              "    .colab-df-convert {\n",
              "      background-color: #E8F0FE;\n",
              "      border: none;\n",
              "      border-radius: 50%;\n",
              "      cursor: pointer;\n",
              "      display: none;\n",
              "      fill: #1967D2;\n",
              "      height: 32px;\n",
              "      padding: 0 0 0 0;\n",
              "      width: 32px;\n",
              "    }\n",
              "\n",
              "    .colab-df-convert:hover {\n",
              "      background-color: #E2EBFA;\n",
              "      box-shadow: 0px 1px 2px rgba(60, 64, 67, 0.3), 0px 1px 3px 1px rgba(60, 64, 67, 0.15);\n",
              "      fill: #174EA6;\n",
              "    }\n",
              "\n",
              "    [theme=dark] .colab-df-convert {\n",
              "      background-color: #3B4455;\n",
              "      fill: #D2E3FC;\n",
              "    }\n",
              "\n",
              "    [theme=dark] .colab-df-convert:hover {\n",
              "      background-color: #434B5C;\n",
              "      box-shadow: 0px 1px 3px 1px rgba(0, 0, 0, 0.15);\n",
              "      filter: drop-shadow(0px 1px 2px rgba(0, 0, 0, 0.3));\n",
              "      fill: #FFFFFF;\n",
              "    }\n",
              "  </style>\n",
              "\n",
              "      <script>\n",
              "        const buttonEl =\n",
              "          document.querySelector('#df-2c1beaec-7ef6-4f11-8e28-964b443507e4 button.colab-df-convert');\n",
              "        buttonEl.style.display =\n",
              "          google.colab.kernel.accessAllowed ? 'block' : 'none';\n",
              "\n",
              "        async function convertToInteractive(key) {\n",
              "          const element = document.querySelector('#df-2c1beaec-7ef6-4f11-8e28-964b443507e4');\n",
              "          const dataTable =\n",
              "            await google.colab.kernel.invokeFunction('convertToInteractive',\n",
              "                                                     [key], {});\n",
              "          if (!dataTable) return;\n",
              "\n",
              "          const docLinkHtml = 'Like what you see? Visit the ' +\n",
              "            '<a target=\"_blank\" href=https://colab.research.google.com/notebooks/data_table.ipynb>data table notebook</a>'\n",
              "            + ' to learn more about interactive tables.';\n",
              "          element.innerHTML = '';\n",
              "          dataTable['output_type'] = 'display_data';\n",
              "          await google.colab.output.renderOutput(dataTable, element);\n",
              "          const docLink = document.createElement('div');\n",
              "          docLink.innerHTML = docLinkHtml;\n",
              "          element.appendChild(docLink);\n",
              "        }\n",
              "      </script>\n",
              "    </div>\n",
              "  </div>\n",
              "  "
            ],
            "text/plain": [
              "     Risk\n",
              "0       1\n",
              "1       0\n",
              "2       1\n",
              "3       1\n",
              "4       0\n",
              "..    ...\n",
              "995     1\n",
              "996     1\n",
              "997     1\n",
              "998     0\n",
              "999     1\n",
              "\n",
              "[1000 rows x 1 columns]"
            ]
          },
          "execution_count": 7,
          "metadata": {},
          "output_type": "execute_result"
        }
      ],
      "source": [
        "y"
      ]
    },
    {
      "cell_type": "code",
      "execution_count": null,
      "metadata": {
        "colab": {
          "base_uri": "https://localhost:8080/",
          "height": 316
        },
        "id": "tP133SB5RehN",
        "outputId": "3dc58d7d-3580-4e68-fdfe-3664c492b4a8"
      },
      "outputs": [
        {
          "data": {
            "text/plain": [
              "array([[<matplotlib.axes._subplots.AxesSubplot object at 0x7fa04a0a3640>]],\n",
              "      dtype=object)"
            ]
          },
          "execution_count": 8,
          "metadata": {},
          "output_type": "execute_result"
        },
        {
          "data": {
            "image/png": "[encoded data removed]",
            "text/plain": [
              "<Figure size 432x288 with 1 Axes>"
            ]
          },
          "metadata": {
            "needs_background": "light"
          },
          "output_type": "display_data"
        }
      ],
      "source": [
        "y.hist()"
      ]
    },
    {
      "cell_type": "markdown",
      "metadata": {
        "id": "4dREk-24yB6M"
      },
      "source": [
        "## Learning a Classifier"
      ]
    },
    {
      "cell_type": "code",
      "execution_count": null,
      "metadata": {
        "colab": {
          "base_uri": "https://localhost:8080/"
        },
        "id": "xsoPr2xtyc8f",
        "outputId": "7a9f788c-2293-490e-d354-908a5d3b8a52"
      },
      "outputs": [
        {
          "name": "stdout",
          "output_type": "stream",
          "text": [
            "Accuracy: 0.80\n",
            "F1 Score: 0.87\n",
            "Precision Score: 0.82\n"
          ]
        }
      ],
      "source": [
        "from sklearn.ensemble import RandomForestClassifier\n",
        "from sklearn.svm import SVC\n",
        "from sklearn.model_selection import train_test_split\n",
        "from sklearn.metrics import accuracy_score, f1_score, precision_score, recall_score\n",
        "\n",
        "x_train, x_test, y_train, y_test = train_test_split(X.values, y.values, test_size=0.20, random_state=22)\n",
        "\n",
        "y_train = y_train.ravel()\n",
        "y_test = y_test.ravel()\n",
        "\n",
        "model = RandomForestClassifier(n_estimators=200, criterion=\"gini\", random_state=9)\n",
        "\n",
        "model.fit(x_train, y_train)\n",
        "y_pred = model.predict(x_test)\n",
        "\n",
        "print(\"Accuracy: %.2f\" % accuracy_score(y_test, y_pred))\n",
        "print(\"F1 Score: %.2f\" % f1_score(y_test, y_pred))\n",
        "print(\"Precision Score: %.2f\" % precision_score(y_test, y_pred))"
      ]
    },
    {
      "cell_type": "markdown",
      "metadata": {
        "id": "pAcIfO2bx3gP"
      },
      "source": [
        "# Counterfactual Pedagogical Example"
      ]
    },
    {
      "cell_type": "markdown",
      "metadata": {
        "id": "ghrbi2_VUR0E"
      },
      "source": [
        "1. Age (numeric)\n",
        "2. Sex (text: male, female)\n",
        "3. Job (numeric: 0 - unskilled and non-resident, 1 - unskilled and resident, 2 - skilled, 3 - highly skilled)\n",
        "4. Housing (text: own, rent, or free)\n",
        "5. Saving accounts (text - little, moderate, quite rich, rich)\n",
        "6. Checking account (numeric, in DM - Deutsch Mark)\n",
        "7. Credit amount (numeric, in DM)\n",
        "8. Duration (numeric, in month)\n",
        "9. Purpose (text: car, furniture/equipment, radio/TV, domestic appliances, repairs, education, business, vacation/others)"
      ]
    },
    {
      "cell_type": "code",
      "execution_count": null,
      "metadata": {
        "colab": {
          "base_uri": "https://localhost:8080/"
        },
        "id": "5HmWo4roSxHc",
        "outputId": "7b89f3a4-b47d-4b8e-98a2-2443d3fff9af"
      },
      "outputs": [
        {
          "data": {
            "text/plain": [
              "Age                   67\n",
              "Sex                    1\n",
              "Job                    2\n",
              "Housing                1\n",
              "Saving accounts        4\n",
              "Checking account       0\n",
              "Credit amount       1169\n",
              "Duration               6\n",
              "Purpose                5\n",
              "Name: 0, dtype: int64"
            ]
          },
          "execution_count": 10,
          "metadata": {},
          "output_type": "execute_result"
        }
      ],
      "source": [
        "X.iloc[0,:]"
      ]
    },
    {
      "cell_type": "code",
      "execution_count": null,
      "metadata": {
        "colab": {
          "base_uri": "https://localhost:8080/"
        },
        "id": "cyCZb_96y4JD",
        "outputId": "62e9904a-ffac-463b-fe5a-9590b33f0541"
      },
      "outputs": [
        {
          "data": {
            "text/plain": [
              "array([  27,    0,    2,    1,    0,    0, 2389,   18,    5])"
            ]
          },
          "execution_count": 10,
          "metadata": {},
          "output_type": "execute_result"
        }
      ],
      "source": [
        "test_point = x_test[0]\n",
        "test_point"
      ]
    },
    {
      "cell_type": "code",
      "execution_count": null,
      "metadata": {
        "colab": {
          "base_uri": "https://localhost:8080/"
        },
        "id": "oqIqdUW5Ug4R",
        "outputId": "b4c9735c-5fc1-4359-acd5-5d719b7b59a4"
      },
      "outputs": [
        {
          "data": {
            "text/plain": [
              "array([[0.615, 0.385]])"
            ]
          },
          "execution_count": 11,
          "metadata": {},
          "output_type": "execute_result"
        }
      ],
      "source": [
        "model.predict_proba(test_point.reshape(1, -1) + [0, 0, 0, 0, 0, 0, 0, 0, 0])"
      ]
    },
    {
      "cell_type": "code",
      "execution_count": null,
      "metadata": {
        "colab": {
          "base_uri": "https://localhost:8080/"
        },
        "id": "MMCPI_hGScuj",
        "outputId": "fa243118-5f1c-45ae-ea63-3f88a8be9220"
      },
      "outputs": [
        {
          "data": {
            "text/plain": [
              "array([[0.29, 0.71]])"
            ]
          },
          "execution_count": 12,
          "metadata": {},
          "output_type": "execute_result"
        }
      ],
      "source": [
        "# So what I am demonstrating here is that if we change the gender to male\n",
        "# and then change job to \"highly skilled\", we end up not being a credit risk\n",
        "\n",
        "model.predict_proba(test_point.reshape(1, -1) + [0, 1, 1, 0, 0, 0, 0, 0, 0])"
      ]
    },
    {
      "cell_type": "markdown",
      "metadata": {
        "id": "rAY_5zWyp4LG"
      },
      "source": [
        "# Plotting"
      ]
    },
    {
      "cell_type": "code",
      "execution_count": null,
      "metadata": {
        "id": "XmYQYBWeBKnC"
      },
      "outputs": [],
      "source": [
        "def plot_history(population, extra):\n",
        "  fig, ax = plt.subplots(1, 2, figsize=(10,7))\n",
        "\n",
        "  cf_fitness = population.stats[\"cf\"]\n",
        "  bit_fitness = population.stats[\"bit\"]\n",
        "\n",
        "  num_gen = np.arange(len(cf_fitness[\"min\"]))\n",
        "\n",
        "  # Plot counterfactual fitness\n",
        "  ax[0].plot(num_gen, cf_fitness[\"max\"], label=\"Max\", color=\"darkorange\")\n",
        "  ax[0].plot(num_gen, cf_fitness[\"mean\"], label=\"Mean\", color=\"seagreen\")\n",
        "  ax[0].plot(num_gen, cf_fitness[\"min\"], label=\"Min\", color=\"royalblue\")\n",
        "\n",
        "  ax[0].legend()\n",
        "  ax[0].set_title(\"Counterfactual\", fontsize=12,)\n",
        "  ax[0].grid(axis=\"y\")\n",
        "  ax[0].set_ylabel(\"Fitness\", fontsize=12, fontweight=\"bold\")\n",
        "\n",
        "  # Plot bit fitness\n",
        "  ax[1].plot(num_gen, bit_fitness[\"max\"], label=\"Max\", color=\"darkorange\")\n",
        "  ax[1].plot(num_gen, bit_fitness[\"mean\"], label=\"Mean\", color=\"seagreen\")\n",
        "  ax[1].plot(num_gen, bit_fitness[\"min\"], label=\"Min\", color=\"royalblue\")\n",
        "\n",
        "  ax[1].set_title(\"Feature Mask\", fontsize=12,)\n",
        "  ax[1].grid(axis=\"y\")\n",
        "\n",
        "  fig.text(0.5, 0.04, \"Generation\", ha=\"center\", fontsize=12, fontweight=\"bold\")\n",
        "  fig.text(0.91, 0.69, extra, ha=\"left\")\n",
        "  fig.suptitle(\"Species Fitness\", y=0.95,fontweight=\"bold\", fontsize=14)\n",
        "  fig.show()\n",
        "\n",
        "  return"
      ]
    },
    {
      "cell_type": "code",
      "execution_count": null,
      "metadata": {
        "id": "pMYDb5AWBQiv"
      },
      "outputs": [],
      "source": [
        "def plot_bit_inclusions(population, extra):\n",
        "  best_map = population.pop[\"bit\"][population.get_best(10, \"bit\")]\n",
        "  feature_counts = np.sum(best_map, axis=0)\n",
        "  sort_index = np.argsort(feature_counts)\n",
        "\n",
        "  fig, ax = plt.subplots(1, figsize=(10,7))\n",
        "  plt.barh(np.arange(9), feature_counts[sort_index], color=\"SeaGreen\")\n",
        "  plt.yticks(np.arange(9), columns[sort_index])\n",
        "  plt.xlabel(\"Times Marked as Non-Protected\", fontweight=\"bold\", fontsize=12)\n",
        "  plt.ylabel(\"Feature\", fontweight=\"bold\", fontsize=12)\n",
        "  plt.title(f\"Inclusions For Top 10 Feature Masks\", fontweight=\"bold\", fontsize=14)\n",
        "  plt.text(10.6, 6.4, extra, ha=\"left\")\n",
        "  plt.show()\n",
        "  return"
      ]
    },
    {
      "cell_type": "code",
      "execution_count": null,
      "metadata": {
        "id": "UUDesizRBUFj"
      },
      "outputs": [],
      "source": [
        "def plot_masked_prob(population, evaluator, extra):\n",
        "  best_cf = population.pop[\"cf\"][population.get_best(10, \"cf\")]\n",
        "  best_map = population.pop[\"bit\"][population.get_best(1, \"bit\")]\n",
        "\n",
        "  desired_class = evaluator.desired_class\n",
        "  x_orig = evaluator.x_orig\n",
        "\n",
        "  best_combined = np.zeros((10,9), dtype=\"int32\")\n",
        "  for i, a in enumerate(best_combined):\n",
        "    best_combined[i] = copy.deepcopy(x_orig)\n",
        "    best_combined[i][best_map.astype(bool)[0]] = best_cf[i][best_map.astype(bool)[0]]\n",
        "\n",
        "  cf_pred = evaluator.model_predict(best_cf)[:, desired_class]\n",
        "  combined_pred = evaluator.model_predict(best_combined)[:, desired_class]\n",
        "\n",
        "  width = 0.35\n",
        "  x_marks = np.arange(10)\n",
        "  fig, ax = plt.subplots(1, figsize=(10,7))\n",
        "\n",
        "  rects1 = ax.barh(x_marks - width/2, cf_pred[::-1], width, label=\"$x'$\", color=\"grey\")\n",
        "  rects1 = ax.barh(x_marks + width/2, combined_pred[::-1], width, label=\"$x'_B$\", color=\"turquoise\")\n",
        "  plt.ylabel(\"Counterfactuals (sorted descending)\", fontsize=12, fontweight=\"bold\")\n",
        "  plt.xlabel(\"Probability for Desired Class\", fontsize=12, fontweight=\"bold\")\n",
        "\n",
        "  plt.title(f\"Induced Change in Probability for $y^C$ from Masks\", fontweight=\"bold\", fontsize=14)\n",
        "  plt.legend()\n",
        "  plt.axvline(0.5, linestyle=\"--\", color=\"black\")\n",
        "\n",
        "\n",
        "  fig.text(0.91, 0.69, extra, ha=\"left\")\n",
        "  fig.show()"
      ]
    },
    {
      "cell_type": "markdown",
      "metadata": {
        "id": "J0lYwBDod5Nq"
      },
      "source": [
        "# Genetic Algorithm"
      ]
    },
    {
      "cell_type": "markdown",
      "metadata": {
        "id": "JnlpJ2Z1Sifl"
      },
      "source": [
        "# Algorithm Components\n",
        "---"
      ]
    },
    {
      "cell_type": "markdown",
      "metadata": {
        "id": "cNFCxE5v9TaA"
      },
      "source": [
        "## Algorithm Constants"
      ]
    },
    {
      "cell_type": "code",
      "execution_count": null,
      "metadata": {
        "id": "Kwx5sHiah6is"
      },
      "outputs": [],
      "source": [
        "# Need to find the bounds for each of the features to generate random solutions\n",
        "# and also perform bounded mutation\n",
        "\n",
        "def collect_bounds(X):\n",
        "  \"\"\"\n",
        "  Collects bounds for each feature as a 2-d matrix.\n",
        "\n",
        "  Row index 0 contains lower bounds, row index 1 contains upper bounds\n",
        "  \"\"\"\n",
        "\n",
        "  bound = np.ones((2, X.shape[1]), dtype=np.int32)\n",
        "  bound[0] = X.min(axis=0)\n",
        "  bound[1] = X.max(axis=0)\n",
        "  return bound \n",
        "\n",
        "#bound = collect_bounds(X)\n",
        "#bound"
      ]
    },
    {
      "cell_type": "code",
      "execution_count": null,
      "metadata": {
        "colab": {
          "base_uri": "https://localhost:8080/",
          "height": 36
        },
        "id": "DOBkFReSqOnE",
        "outputId": "7b9c0548-6a5d-4ed4-fbcd-197d6bde8557"
      },
      "outputs": [
        {
          "data": {
            "application/vnd.google.colaboratory.intrinsic+json": {
              "type": "string"
            },
            "text/plain": [
              "'\\ndiscrete_map = bound[1] < 10\\ncontinuous_map = np.logical_not(discrete_map)\\nfeature_map = {\\n\"continuous\": continuous_map,\\n\"discrete\": discrete_map\\n                }\\n'"
            ]
          },
          "execution_count": 15,
          "metadata": {},
          "output_type": "execute_result"
        }
      ],
      "source": [
        "\"\"\"\n",
        "discrete_map = bound[1] < 10\n",
        "continuous_map = np.logical_not(discrete_map)\n",
        "feature_map = {\n",
        "\"continuous\": continuous_map,\n",
        "\"discrete\": discrete_map\n",
        "                }\n",
        "\"\"\""
      ]
    },
    {
      "cell_type": "markdown",
      "metadata": {
        "id": "-_GIBqxzlPsF"
      },
      "source": [
        "## Population"
      ]
    },
    {
      "cell_type": "code",
      "execution_count": null,
      "metadata": {
        "id": "GSKEsYPF7cym"
      },
      "outputs": [],
      "source": [
        "def init_cf_pop(pop_size, num_dim, bound, rand_gen):\n",
        "  \"\"\"\n",
        "  Initializes the counterfactual population\n",
        "  \"\"\"\n",
        "\n",
        "  population = np.zeros((pop_size, num_dim), dtype=np.int32)\n",
        "  for i in range(num_dim):\n",
        "    population[:, i] = rand_gen.integers(bound[0][i],\n",
        "                                         bound[1][i]+1,\n",
        "                                         size=(pop_size))\n",
        "\n",
        "  return population\n",
        "\n",
        "def init_bit_pop(pop_size, num_dim, rand_gen):\n",
        "  \"\"\"\n",
        "  Initializes the bit mask population\n",
        "  \"\"\"\n",
        "\n",
        "  population = np.zeros((pop_size, num_dim), dtype=np.int32)\n",
        "\n",
        "  for i in range(pop_size):\n",
        "    keep_var = rand_gen.integers(0, num_dim, (5,)) # 5 is totally variable here, just determines how many variables to keep\n",
        "    population[i][keep_var] = 1\n",
        "\n",
        "  return population\n",
        "\n",
        "class Population():\n",
        "  def __init__(self, pop_size, num_dim, compute_bound_on, seed):\n",
        "    self.shape = (pop_size, num_dim)\n",
        "    self.rand_gen = np.random.default_rng(seed)\n",
        "\n",
        "    # Get the bounds (presumably from X)\n",
        "    self.bound = collect_bounds(compute_bound_on)\n",
        "    \n",
        "    # Populations\n",
        "    self.pop = {\n",
        "        \"cf\": init_cf_pop(*self.shape, self.bound, self.rand_gen),\n",
        "        \"bit\": init_bit_pop(*self.shape, self.rand_gen)\n",
        "    }\n",
        "\n",
        "    # Fitnesses\n",
        "    self.fitness = {\n",
        "        \"cf\": None,\n",
        "        \"bit\": None\n",
        "    }\n",
        "\n",
        "    # Bookkeeping\n",
        "    self.stats = {\n",
        "        \"cf\": {\"min\":[], \"max\":[], \"mean\":[]},\n",
        "        \"bit\": {\"min\":[], \"max\":[], \"mean\":[]}\n",
        "        }\n",
        "\n",
        "    self.history = {\n",
        "        \"cf\": [],\n",
        "        \"bit\": []\n",
        "    }\n",
        "\n",
        "  def set_fitness(self, new_fitness, which):\n",
        "    if which == \"both\":\n",
        "      assert len(new_fitness) == 2, \"Must have both fitnesses packaged in an iterable to set both\"\n",
        "      self.fitness[\"cf\"] = new_fitness[0]\n",
        "      self.fitness[\"bit\"] = new_fitness[1]\n",
        "    else:\n",
        "      self.fitness[which] = new_fitness\n",
        "\n",
        "  def get_best(self, k, which):\n",
        "    assert self.fitness[which] is not None, \"Cannot return best with unitialized fitness\"\n",
        "    return np.argsort(self.fitness[which])[::-1][:k]\n",
        "\n",
        "  def record_stats(self):\n",
        "    assert self.fitness[\"cf\"] is not None, \"Cannot report statistics of uninitialized fitness\"\n",
        "    assert self.fitness[\"bit\"] is not None, \"Cannot report statistics of uninitialized fitness\"\n",
        "\n",
        "    for species in self.stats.keys():\n",
        "      min = self.fitness[species].min()\n",
        "      max = self.fitness[species].max()\n",
        "      mean = self.fitness[species].mean()\n",
        "\n",
        "      print(\"\\n\", f\"Species:{species}\")\n",
        "      print(\"-\"*30)\n",
        "      print(f\"\\t Min: {min}\")\n",
        "      print(f\"\\t Max: {max}\")\n",
        "      print(f\"\\t Mean: {mean}\")\n",
        "      print(\"-\"*30, \"\\n\")\n",
        "\n",
        "      self.stats[species][\"min\"].append(min)\n",
        "      self.stats[species][\"max\"].append(max)\n",
        "      self.stats[species][\"mean\"].append(mean)\n",
        "\n",
        "  def save_pop(self):\n",
        "    self.history[\"cf\"].append(copy.deepcopy(self.pop[\"cf\"]))\n",
        "    self.history[\"bit\"].append(copy.deepcopy(self.pop[\"bit\"]))\n",
        "\n",
        "\n",
        "pop = Population(20, 9, X.values, 192)\n",
        "\n",
        "#pop = init_cf_pop(30, 9, bound, rand_gen)\n",
        "#pop[:5]\n",
        "\n",
        "#bit_pop = init_bit_pop(pop_size, num_dim, rand_gen)\n",
        "#bit_pop[:5]"
      ]
    },
    {
      "cell_type": "markdown",
      "metadata": {
        "id": "k7VUq4T9s81z"
      },
      "source": [
        "## Fitness"
      ]
    },
    {
      "cell_type": "code",
      "execution_count": null,
      "metadata": {
        "id": "TLr54m9Rpfqe"
      },
      "outputs": [],
      "source": [
        "def compute_MAD(X):\n",
        "  \"\"\"Compute the Median Absolute Deviation (MAD) for each feature.\n",
        "\n",
        "  Args:\n",
        "      X (np.ndarray): n x m matrix (n samples, m features)\n",
        "\n",
        "  Returns:\n",
        "      MAD (np.ndarray): vector of m deviations from the median corrosponding to m features\n",
        "  \"\"\"\n",
        "  num_dim = X.shape[1]\n",
        "  MAD = np.zeros(num_dim)\n",
        "\n",
        "  # Computes the median of each feature\n",
        "  feature_wise_median = np.median(X, axis=0).astype(np.int32)\n",
        "\n",
        "  for i in range(num_dim):\n",
        "    # Compute absolute deviation\n",
        "    deviation = np.abs(X[:, i] - feature_wise_median[i])\n",
        "    MAD[i] = np.median(deviation)\n",
        "\n",
        "\n",
        "  # Replace any zeros with 1 (avoids division errors)\n",
        "  MAD[np.where(MAD == 0)[0]] = 1\n",
        "\n",
        "  return MAD\n",
        "\n",
        "#print(\"Without MAD: %.2f\" % l1_distance(pop[0], x_orig))\n",
        "#print(\"With MAD: %.2f\" % l1_distance(pop[0], x_orig, MAD))"
      ]
    },
    {
      "cell_type": "markdown",
      "metadata": {
        "id": "DqPOhMs5FmyW"
      },
      "source": [
        "### Evaluator"
      ]
    },
    {
      "cell_type": "code",
      "execution_count": null,
      "metadata": {
        "id": "YIW3pBHGlZDz"
      },
      "outputs": [],
      "source": [
        "class Evaluator():\n",
        "  def __init__(self, x_orig, desired_class, model_predict, compute_MAD_on=None):\n",
        "    self.x_orig = x_orig\n",
        "    self.num_dim = x_orig.shape[0]\n",
        "    self.desired_class = desired_class\n",
        "    self.model_predict = model_predict\n",
        "\n",
        "    if compute_MAD_on is not None:\n",
        "      self.MAD = compute_MAD(compute_MAD_on)\n",
        "    else:\n",
        "      self.MAD = None\n",
        "  \n",
        "  def l1_distance(self, x_prime, x_orig):\n",
        "    \"\"\"Computes L1 distance between x' and x.\n",
        "        \n",
        "    Args:\n",
        "        x_prime (iterable): Potential solution (counterfactual) from the optimization\n",
        "        x_orig (iterable): Original instance being explained\n",
        "        MAD (iterable, optional): The median absolute deviations for each feature. Defaults to None\n",
        "\n",
        "    Returns:\n",
        "        float: The cost for this objective\n",
        "    \"\"\"\n",
        "    distance = np.abs(x_prime - x_orig)\n",
        "\n",
        "    if self.MAD is not None:\n",
        "      return np.sum(distance / self.MAD)\n",
        "    else:\n",
        "      return np.sum(distance)\n",
        "\n",
        "  def tanimoto(self, string1, string2):\n",
        "    \"\"\"\n",
        "    Computes Tanimoto similarity between two bit strings (masks)\n",
        "    \"\"\"\n",
        "    top = np.logical_and(string1, string2)\n",
        "    bottom = np.logical_or(string1, string2)\n",
        "\n",
        "    return np.sum(top)/np.sum(bottom)\n",
        "\n",
        "  def compute_combined_fit(self, cf_species, bit_species):\n",
        "    \"\"\"\n",
        "    Computes the combined fitness and divides it amongst the elements of the species\n",
        "\n",
        "    The fitness measure for each species is computed as an aggregated evaluation\n",
        "    from one solution of one species, to all the other solutions to the other\n",
        "    species.\n",
        "\n",
        "    Meaning that one counterfactual will have fitness aggregated across all maps that\n",
        "    are passed, and one bit mask will have fitness aggregated across all counterfactuals\n",
        "    that are passed.\n",
        "\n",
        "    Hopefully this means that if both populations want to succeed, they will have\n",
        "    to evolve together. \n",
        "    \"\"\"\n",
        "\n",
        "    fitness = np.zeros(shape=(cf_species.shape[0], bit_species.shape[0]))\n",
        "\n",
        "    # Preliminary values related to the constraints of each species\n",
        "    x_prime_yh = self.model_predict(cf_species)[:, self.desired_class]\n",
        "\n",
        "    # Find out how many features are in each bit mask\n",
        "    bit_count = np.sum(bit_species, axis=1)\n",
        "\n",
        "    for i, x_prime in enumerate(cf_species):\n",
        "      combined_solution = x_prime.copy()\n",
        "      cf_fitness = 1/self.l1_distance(x_prime, self.x_orig)\n",
        "      yh = self.model_predict(\n",
        "          x_prime.reshape(1,-1)\n",
        "          )[:, desired_class]\n",
        "\n",
        "\n",
        "      for j, mask in enumerate(bit_species):\n",
        "        # These features need to be the same as x_orig\n",
        "        not_mask = np.logical_not(mask)\n",
        "\n",
        "        # Build a combined solution using values from x_orig and x_prime\n",
        "        combined_solution[not_mask.astype(bool)] = self.x_orig[not_mask.astype(bool)]\n",
        "        combined_solution[mask.astype(bool)] = x_prime[mask.astype(bool)]\n",
        "\n",
        "        # Get the probability for the desired class of the combined counterfactual\n",
        "        combined_yh = self.model_predict(\n",
        "            combined_solution.reshape(1,-1)\n",
        "            )[:, desired_class]\n",
        "\n",
        "        yh_dif = (combined_yh - x_prime_yh[i])[0]\n",
        "\n",
        "        # If the prediction stays the same, change to 10 to avoid division error\n",
        "        if yh_dif == 0:\n",
        "          yh_dif = 10\n",
        "\n",
        "        else:\n",
        "          yh_dif = 1/yh_dif\n",
        "        \n",
        "        # Explanation:\n",
        "        # The sum of the inverted mask is here to weight the difference in prediction\n",
        "        # given how many features we are taking away. Obviously, taking many features away\n",
        "        # can be detrimental to the prediction, so we don't necessarily want to punish the mask\n",
        "        # for doing so.\n",
        "\n",
        "        # The 1e-3 is just a normalization constant to keep this in line with the\n",
        "        # magnitude of the distance\n",
        "\n",
        "        yh_dif = yh_dif * (self.num_dim-bit_count[j]) * 1e-3\n",
        "\n",
        "        fitness[i][j] = cf_fitness + yh_dif\n",
        "\n",
        "    # Compute the species fitness for the counterfactuals\n",
        "    cf_fitness = np.median(fitness, axis=1)\n",
        "    dif = x_prime_yh - 0.501\n",
        "    infeasible = np.where(dif < 0)[0]\n",
        "    cf_fitness[infeasible] = -dif[infeasible]*cf_fitness[infeasible]*0.50\n",
        "\n",
        "    # Compute the species fitness for the bit masks\n",
        "    bit_fitness = np.median(fitness, axis=0)\n",
        "    infeasible = np.where((bit_count < 3) | (bit_count > 7))[0]\n",
        "\n",
        "    # 5 - bit_count here and then exponential is to create kind of a parabolic\n",
        "    # step function for the penalty.\n",
        "    bit_fitness[infeasible] = bit_fitness[0]*(np.power(5-bit_count[0], 2))*0.025\n",
        "\n",
        "    return cf_fitness, bit_fitness\n",
        "\n",
        "\n",
        "#evaluator = Evaluator(x_orig, desired_class, model.predict_proba, compute_MAD_on=X.values)\n",
        "\n",
        "#fitness = evaluator.compute_combined_fit(pop.pop[\"cf\"], pop.pop[\"bit\"])\n",
        "#pop.set_fitness(fitness, \"both\")"
      ]
    },
    {
      "cell_type": "markdown",
      "metadata": {
        "id": "c244gTxl60C0"
      },
      "source": [
        "## Operators"
      ]
    },
    {
      "cell_type": "markdown",
      "metadata": {
        "id": "5W5FAX9262oe"
      },
      "source": [
        "### Selection"
      ]
    },
    {
      "cell_type": "code",
      "execution_count": null,
      "metadata": {
        "id": "rGrIjFj866el"
      },
      "outputs": [],
      "source": [
        "def random_selection(fitness, num_mating=-1, rand_gen=None):\n",
        "  \"\"\"\n",
        "  Randomly select solutions with no regards to their fitness.\n",
        "  For crowding, need to randomly select (basically shuffle) all solutions\n",
        "  and then mate them.\n",
        "  \"\"\"\n",
        "\n",
        "  if num_mating == -1:\n",
        "    N = len(fitness)\n",
        "  else:\n",
        "    N = num_mating\n",
        "\n",
        "  selected = rand_gen.choice(\n",
        "              np.arange(len(fitness)),\n",
        "              size=(N,),\n",
        "              replace=False,\n",
        "              )\n",
        "  \n",
        "  return selected\n",
        "  \n",
        "#selected = random_selection(fitness, rand_gen=rand_gen)\n",
        "#selected"
      ]
    },
    {
      "cell_type": "code",
      "execution_count": null,
      "metadata": {
        "id": "tpob9kAGzEuD"
      },
      "outputs": [],
      "source": [
        "#selection = random_selection(pop.fitness[\"cf\"], num_mating=10, rand_gen=rand_gen)\n",
        "#selection"
      ]
    },
    {
      "cell_type": "markdown",
      "metadata": {
        "id": "j3itVs_Y6NY1"
      },
      "source": [
        "### Crossover"
      ]
    },
    {
      "cell_type": "code",
      "execution_count": null,
      "metadata": {
        "id": "OYfuAeAH6BtK"
      },
      "outputs": [],
      "source": [
        "def SBX(parent1, parent2, eta, rand_gen):\n",
        "  \"\"\"\n",
        "  Performs simulated binary crossover from:\n",
        "  https://sci-hub.ru/10.1145/1276958.1277190\n",
        "\n",
        "  Imitates binary crossover on real-valued strings\n",
        "  using a probability distribution similar to single point crossover.\n",
        "  \"\"\"\n",
        "  u = rand_gen.random()\n",
        "\n",
        "  if u <= 0.50:\n",
        "    Bq = pow(2*u, 1/(eta+1))\n",
        "  else:\n",
        "    Bq = pow(1/(2*(1-u)), 1/(eta+1))\n",
        "\n",
        "  child1 = np.round(0.5*((1+Bq)*parent1 + (1-Bq)*parent2), 0).astype(np.int32)\n",
        "  child2 = np.round(0.5*((1-Bq)*parent1 + (1+Bq)*parent2), 0).astype(np.int32)\n",
        "\n",
        "  return (child1, child2)\n",
        "\n",
        "#SBX(pop[0], pop[1], eta=15, rand_gen=rand_gen)"
      ]
    },
    {
      "cell_type": "code",
      "execution_count": null,
      "metadata": {
        "id": "daAMpGY27jo3"
      },
      "outputs": [],
      "source": [
        "def one_point_cross(parent1, parent2, rand_gen):\n",
        "  \"\"\"\n",
        "  Performs one point crossover\n",
        "  \"\"\"\n",
        "  \n",
        "  length = len(parent1)\n",
        "\n",
        "  # Find split point (leaving sign bit alone)\n",
        "  cut = rand_gen.integers(1, length-2)\n",
        "\n",
        "  # Produce children\n",
        "  child1 = np.concatenate((parent1[0:cut], parent2[cut:length]))\n",
        "  child2 = np.concatenate((parent2[0:cut], parent1[cut:length]))\n",
        "\n",
        "  assert len(child1) == len(child2) == len(parent1)\n",
        "\n",
        "  return (child1, child2)\n",
        "\n",
        "#one_point_cross(pop[0], pop[1], rand_gen=rand_gen)"
      ]
    },
    {
      "cell_type": "markdown",
      "metadata": {
        "id": "0NHG_Q5-6MUD"
      },
      "source": [
        "### Mutation"
      ]
    },
    {
      "cell_type": "code",
      "execution_count": null,
      "metadata": {
        "colab": {
          "base_uri": "https://localhost:8080/"
        },
        "id": "XkuC8lKz6nqF",
        "outputId": "e75629d3-df50-4c0f-aa1b-d4de5444d97c"
      },
      "outputs": [
        {
          "data": {
            "application/vnd.google.colaboratory.intrinsic+json": {
              "type": "string"
            },
            "text/plain": [
              "'\\nfor o, m in zip(pop.pop[\"bit\"][0], bit_mut(pop.pop[\"bit\"][0], 0.3, rand_gen=rand_gen)):\\n  if o != m:\\n    print(\"Mutated\")\\n'"
            ]
          },
          "execution_count": 27,
          "metadata": {},
          "output_type": "execute_result"
        }
      ],
      "source": [
        "def bit_mut(solution, Pm, rand_gen):\n",
        "  \"\"\"\n",
        "  Performs mutation working on a bit string. This is only applicable to\n",
        "  the bit map population.\n",
        "  \"\"\"\n",
        "  \n",
        "  sol_copy = solution.copy()\n",
        "\n",
        "  for i, bit in enumerate(sol_copy):\n",
        "    if Pm > rand_gen.random():\n",
        "      if bit == 1:\n",
        "        sol_copy[i ]= 0\n",
        "      else:\n",
        "        sol_copy[i] = 1\n",
        "\n",
        "  return sol_copy\n",
        "\n",
        "\"\"\"\n",
        "for o, m in zip(pop.pop[\"bit\"][0], bit_mut(pop.pop[\"bit\"][0], 0.3, rand_gen=rand_gen)):\n",
        "  if o != m:\n",
        "    print(\"Mutated\")\n",
        "\"\"\""
      ]
    },
    {
      "cell_type": "code",
      "execution_count": null,
      "metadata": {
        "colab": {
          "base_uri": "https://localhost:8080/"
        },
        "id": "U2c79EdzwoCy",
        "outputId": "1b88a2db-ecd5-40c9-f485-0f6658598516"
      },
      "outputs": [
        {
          "data": {
            "application/vnd.google.colaboratory.intrinsic+json": {
              "type": "string"
            },
            "text/plain": [
              "'\\nfor o, m in zip(pop.pop[\"cf\"][0], poly_mut(pop.pop[\"cf\"][0], bound, feature_map, 2, 1, rand_gen=rand_gen)):\\n  print(o, m)\\n'"
            ]
          },
          "execution_count": 28,
          "metadata": {},
          "output_type": "execute_result"
        }
      ],
      "source": [
        "def poly_mut(solution, bound, feature_map, eta, Pm, rand_gen):\n",
        "  \"\"\"\n",
        "  Implements polynomial mutation from PyMoo library:\n",
        "  https://github.com/anyoptimization/pymoo/blob/main/pymoo/operators/mutation/pm.py\n",
        "\n",
        "  Or better yet:\n",
        "  https://www.researchgate.net/profile/Bilal-Abed-Alguni/publication/330967534_Island-based_Cuckoo_Search_with_Highly_Disruptive_Polynomial_Mutation/links/5c740b59458515831f6fcf32/Island-based-Cuckoo-Search-with-Highly-Disruptive-Polynomial-Mutation.pdf\n",
        "\n",
        "  But the problem here is that polynomial mutation only really works on\n",
        "  real-valued chromosomes. For instance, it is extremely unlikely that gender\n",
        "  will ever be mutated in the counterfactual. So this implementation performs\n",
        "  PM only on the continuous genes, but uniform discrete mutation on the others.\n",
        "  \"\"\"\n",
        "  mutate_index = (rand_gen.random(solution.shape) < Pm).astype(np.int32)\n",
        "\n",
        "  if sum(mutate_index) == 0:\n",
        "    # Case where no mutation occurs\n",
        "    return solution\n",
        "  \n",
        "  else:\n",
        "    # Perform continuous mutation via PM\n",
        "    delta1 = (solution - bound[0]) / (bound[1] - bound[0])\n",
        "    delta2 = (bound[1] - solution) / (bound[1] - bound[0])\n",
        "    mut_power = 1.0 / (eta + 1.0) # μ_m in the pseudocode\n",
        "\n",
        "    rand = rand_gen.random(solution.shape)\n",
        "    mask = rand <= 0.5\n",
        "    mask_not = np.logical_not(mask)\n",
        "\n",
        "    deltaq = np.zeros(solution.shape)\n",
        "\n",
        "    xy = 1.0 - delta1\n",
        "    val = 2.0 * rand + (1.0 - 2.0 * rand) * (np.power(np.abs(xy), (eta + 1.0)))\n",
        "    d = np.power(np.abs(val), mut_power) - 1.0\n",
        "    deltaq[mask] = d[mask]\n",
        "\n",
        "    xy = 1.0 - delta2\n",
        "    val = 2.0 * (1.0 - rand) + 2.0 * (rand - 0.5) * (np.power(np.abs(xy), (eta + 1.0)))\n",
        "    d = 1.0 - (np.power(np.abs(val), mut_power))\n",
        "    deltaq[mask_not] = d[mask_not]\n",
        "\n",
        "    # Only applies the mutation to the continuous features that have passed the\n",
        "    # mutation criterion\n",
        "    new_sol = solution + (feature_map[\"continuous\"]*mutate_index*(deltaq * (bound[1] - bound[0])))\n",
        "    new_sol = np.round(new_sol, 0).astype(np.int32)\n",
        "\n",
        "    # Ensures that resulting new solution is within the bounds\n",
        "    new_sol[new_sol < bound[0]] = bound[0][new_sol < bound[0]]\n",
        "    new_sol[new_sol > bound[1]] = bound[1][new_sol > bound[1]]\n",
        "\n",
        "    # Perform discrete mutation uniformly at random\n",
        "    for i, is_discrete in enumerate(feature_map[\"discrete\"]):\n",
        "      if is_discrete and mutate_index[i]:\n",
        "        new_sol[i] = rand_gen.integers(bound[0][i], bound[1][i]+1)\n",
        "    \n",
        "    return new_sol\n",
        "\"\"\"\n",
        "for o, m in zip(pop.pop[\"cf\"][0], poly_mut(pop.pop[\"cf\"][0], bound, feature_map, 2, 1, rand_gen=rand_gen)):\n",
        "  print(o, m)\n",
        "\"\"\""
      ]
    },
    {
      "cell_type": "markdown",
      "metadata": {
        "id": "Tv-pTC5NFtzA"
      },
      "source": [
        "### Reproduction"
      ]
    },
    {
      "cell_type": "markdown",
      "metadata": {
        "id": "uyZI_OmNFrpk"
      },
      "source": [
        "#### Reproducer"
      ]
    },
    {
      "cell_type": "code",
      "execution_count": null,
      "metadata": {
        "id": "ybo_0ymCzkJi"
      },
      "outputs": [],
      "source": [
        "class Reproducer():\n",
        "  def __init__(self, Pc, Pm, eta, seed):\n",
        "    self.Pc = Pc\n",
        "    self.Pm = Pm\n",
        "    self.eta = eta\n",
        "    self.rand_gen = np.random.default_rng(seed)\n",
        "\n",
        "    # Will need to set these from population class (has coupling)\n",
        "    self.bound = None\n",
        "    self.feature_map = None\n",
        "\n",
        "  def set_pop_params(self, population):\n",
        "    self.bound = population.bound\n",
        "\n",
        "    # Set up the feature map (for mutation)\n",
        "    discrete_map = self.bound[1] < 10\n",
        "    continuous_map = np.logical_not(discrete_map)\n",
        "\n",
        "    self.feature_map = {\n",
        "        \"continuous\": continuous_map,\n",
        "        \"discrete\": discrete_map\n",
        "                        }\n",
        "\n",
        "  def reproduce(self, population, selection, evaluator, main_species):\n",
        "    \"\"\"\n",
        "    Perform reproduction on counterfactuals\n",
        "    \"\"\"\n",
        "    # Get 10 best of other species\n",
        "    if main_species == \"cf\":\n",
        "      other_species = \"bit\"\n",
        "      \n",
        "    elif main_species ==\"bit\":\n",
        "      other_species = \"cf\"\n",
        "\n",
        "    best_other_species = population.pop[other_species][population.get_best(10, other_species)]\n",
        "\n",
        "    first_parents = selection[:len(selection)//2]\n",
        "    second_parents = selection[len(selection)//2:]\n",
        "\n",
        "    replacements = {}\n",
        "    child_fitness = {}\n",
        "\n",
        "    for p1, p2 in zip(first_parents, second_parents):\n",
        "      if self.Pc > self.rand_gen.random():\n",
        "        # Grab the parents from the population\n",
        "        parent1 = population.pop[main_species][p1]\n",
        "        parent2 = population.pop[main_species][p2]\n",
        "\n",
        "        # Perform mating operations\n",
        "        if main_species == \"cf\":\n",
        "          # Perform crossover for COUNTERFACTUALS\n",
        "          children = SBX(parent1, parent2, self.eta, self.rand_gen)\n",
        "\n",
        "          # Perform mutation for COUNTERFACTUALS\n",
        "          children = np.array(list(map(\n",
        "              functools.partial(poly_mut,\n",
        "                                bound=self.bound,\n",
        "                                feature_map=self.feature_map,\n",
        "                                eta=self.eta,\n",
        "                                Pm=self.Pm,\n",
        "                                rand_gen=self.rand_gen), children)\n",
        "          ))\n",
        "\n",
        "          # Compute fitness for COUNTERFACTUALS\n",
        "          child_fit = evaluator.compute_combined_fit(cf_species=children,\n",
        "                                            bit_species=best_other_species)[0]\n",
        "        \n",
        "        elif main_species == \"bit\":\n",
        "          # Perform crossover for BIT MASKS\n",
        "          children = one_point_cross(parent1, parent2, self.rand_gen)\n",
        "\n",
        "          # Perform mutation for BIT MASKS\n",
        "          children = np.array(list(map(\n",
        "              functools.partial(bit_mut,\n",
        "                                Pm=self.Pm,\n",
        "                                rand_gen=self.rand_gen), children)\n",
        "          ))\n",
        "\n",
        "          # Compute fitness for BIT MASKS\n",
        "          child_fit = evaluator.compute_combined_fit(cf_species=best_other_species,\n",
        "                                            bit_species=children)[1]\n",
        "        else:\n",
        "          raise ValueError\n",
        "\n",
        "        # Mark the population indices for replacement\n",
        "        replacements[(p1, p2)] = (children[0], children[1])\n",
        "\n",
        "        # Store the fitness of the children (easier for niching/don't need to recompute all fitness every iteration)\n",
        "        child_fitness[(p1, p2)] = (child_fit[0], child_fit[1])\n",
        "\n",
        "    return replacements, child_fitness\n",
        "\n",
        "\n",
        "\n",
        "#repro = Reproducer(0.95, 0.03, 15, 192)\n",
        "#repro.set_pop_params(pop)\n",
        "\n",
        "#replacements, child_fitness = repro.reproduce(pop, selection, evaluator, main_species=\"bit\")"
      ]
    },
    {
      "cell_type": "markdown",
      "metadata": {
        "id": "QGUf2k9UJH_n"
      },
      "source": [
        "### Niching"
      ]
    },
    {
      "cell_type": "code",
      "execution_count": null,
      "metadata": {
        "id": "L1txzDAth7O9"
      },
      "outputs": [],
      "source": [
        "def RTS(population, evaluator, replacements, child_fitness, window_size, main_species):\n",
        "  \"\"\"\n",
        "  Implements restricted tournament search from:\n",
        "  https://arxiv.org/pdf/2201.06485.pdf\n",
        "  \n",
        "  Effectively what needs to be done here is to do the reproduction, and then compare\n",
        "  each child with the smallest\n",
        "  \"\"\"\n",
        "\n",
        "  new_replacements = {}\n",
        "  new_child_fitness = {}\n",
        "\n",
        "  fitness = population.fitness[main_species]\n",
        "  rand_gen = population.rand_gen\n",
        "\n",
        "  for parents, children, in replacements.items():\n",
        "    for child, child_fit in zip(children, child_fitness[parents]):\n",
        "      sample = rand_gen.choice(\n",
        "              np.arange(len(fitness)),\n",
        "              size=(window_size,),\n",
        "              replace=False,\n",
        "              )\n",
        "\n",
        "      min_dist = np.inf\n",
        "      min_index = None\n",
        "\n",
        "      for pop_index in sample:\n",
        "        replacing_solution = population.pop[main_species][pop_index]\n",
        "\n",
        "        if main_species == \"cf\":\n",
        "          dist = evaluator.l1_distance(child, replacing_solution)\n",
        "\n",
        "        elif main_species == \"bit\":\n",
        "          dist = 1-evaluator.tanimoto(child, replacing_solution) # Tanimoto disimilarity\n",
        "\n",
        "        if dist < min_dist:\n",
        "          min_dist = dist\n",
        "          min_index = pop_index\n",
        "\n",
        "      if child_fit > fitness[min_index]:\n",
        "        new_replacements[(min_index, )] = np.array([child])\n",
        "        new_child_fitness[(min_index, )] = np.array([child_fit], dtype=np.float32)\n",
        "\n",
        "  return new_replacements, new_child_fitness\n",
        "\n",
        "#replacements, child_fitness = RTS(pop, evaluator, replacements, child_fitness, 5, main_species=\"bit\")"
      ]
    },
    {
      "cell_type": "markdown",
      "metadata": {
        "id": "XZ01YFMCjJlh"
      },
      "source": [
        "## Putting It All Together"
      ]
    },
    {
      "cell_type": "code",
      "execution_count": null,
      "metadata": {
        "id": "ORYrkyWxjbIF"
      },
      "outputs": [],
      "source": [
        "def genetic_algorithm(population,\n",
        "                      evaluator,\n",
        "                      reproducer,\n",
        "                      num_gen,\n",
        "                      num_mating,\n",
        "                      **kwargs):\n",
        "\n",
        "  window_size = population.shape[0]\n",
        "\n",
        "\n",
        "  first_fit = evaluator.compute_combined_fit(population.pop[\"cf\"],\n",
        "                                             population.pop[\"bit\"])\n",
        "  population.set_fitness(first_fit, \"both\")\n",
        "\n",
        "  population.save_pop()\n",
        "  population.record_stats()\n",
        "\n",
        "  for gen in tqdm.trange(num_gen):\n",
        "    for species in [\"cf\", \"bit\"]:\n",
        "      # Perform selection\n",
        "      selection = random_selection(population.fitness[species],\n",
        "                                   num_mating,\n",
        "                                   population.rand_gen)\n",
        "\n",
        "      # Perform reproduction\n",
        "      replacements, child_fitness = reproducer.reproduce(population,\n",
        "                                                         selection,\n",
        "                                                         evaluator,\n",
        "                                                         main_species=species)\n",
        "      \n",
        "      # Perform restricted tournament selection\n",
        "      replacements, child_fitness = RTS(population,\n",
        "                                        evaluator,\n",
        "                                        replacements,\n",
        "                                        child_fitness,\n",
        "                                        window_size,\n",
        "                                        main_species=species)\n",
        "      \n",
        "      # Perform replacement\n",
        "      for k in replacements.keys():\n",
        "        # Replace p1 with c1\n",
        "        population.pop[species][k[0]] = replacements[k][0]\n",
        "        population.fitness[species][k[0]] = child_fitness[k][0]\n",
        "\n",
        "    population.record_stats()\n",
        "  \n",
        "  population.save_pop()\n",
        "\n",
        "  return population\n",
        "\n",
        "\n"
      ]
    },
    {
      "cell_type": "markdown",
      "metadata": {
        "id": "YozFI0M63c3C"
      },
      "source": [
        "# Evaluation"
      ]
    },
    {
      "cell_type": "markdown",
      "metadata": {
        "id": "FF7V1Iv13gqw"
      },
      "source": [
        "## Single Examples - CCGA"
      ]
    },
    {
      "cell_type": "code",
      "execution_count": null,
      "metadata": {
        "colab": {
          "base_uri": "https://localhost:8080/"
        },
        "id": "kTW92Mi6zLMj",
        "outputId": "519e7680-877a-4bea-aa1b-e92f5b748d19"
      },
      "outputs": [
        {
          "data": {
            "text/plain": [
              "array([0])"
            ]
          },
          "execution_count": 33,
          "metadata": {},
          "output_type": "execute_result"
        }
      ],
      "source": [
        "x_orig = x_test[4]\n",
        "desired_class = np.argmin(model.predict_proba(x_orig.reshape(1,-1)), axis=1)\n",
        "desired_class"
      ]
    },
    {
      "cell_type": "code",
      "execution_count": null,
      "metadata": {
        "id": "P5Mk_BYGTxLP"
      },
      "outputs": [],
      "source": [
        "pop = Population(pop_size=30,\n",
        "                 num_dim=9,\n",
        "                 compute_bound_on=X.values,\n",
        "                 seed=432)\n",
        "\n",
        "evaluator = Evaluator(x_orig=x_orig,\n",
        "                      desired_class=desired_class,\n",
        "                      model_predict=model.predict_proba,\n",
        "                      compute_MAD_on=X.values)\n",
        "\n",
        "reproducer = Reproducer(Pc=0.95,\n",
        "                        Pm=0.3,\n",
        "                        eta=15,\n",
        "                        seed=432)\n",
        "\n",
        "reproducer.set_pop_params(pop)\n",
        "\n",
        "pop = genetic_algorithm(pop, evaluator, reproducer, num_gen=50, num_mating=-1)"
      ]
    },
    {
      "cell_type": "code",
      "execution_count": null,
      "metadata": {
        "colab": {
          "base_uri": "https://localhost:8080/",
          "height": 493
        },
        "id": "d3xDmsXAyAJ1",
        "outputId": "dcd1a696-0955-454c-8a99-f304acdbd710"
      },
      "outputs": [
        {
          "data": {
            "image/png": "[encoded data removed]",
            "text/plain": [
              "<Figure size 720x504 with 2 Axes>"
            ]
          },
          "metadata": {
            "needs_background": "light"
          },
          "output_type": "display_data"
        }
      ],
      "source": [
        "extra = \"Seed=432\\nPopsize=30\\n$P_c=0.95$\\n$P_m=0.3$\\n$\\eta=15$\\nx_test[4]\\n$y^C=0$\"\n",
        "plot_history(pop, extra)"
      ]
    },
    {
      "cell_type": "code",
      "execution_count": null,
      "metadata": {
        "colab": {
          "base_uri": "https://localhost:8080/",
          "height": 462
        },
        "id": "ArFw0veSWi69",
        "outputId": "cadc0717-402e-4f1d-caa2-c0998029316c"
      },
      "outputs": [
        {
          "data": {
            "image/png": "[encoded data removed]",
            "text/plain": [
              "<Figure size 720x504 with 1 Axes>"
            ]
          },
          "metadata": {
            "needs_background": "light"
          },
          "output_type": "display_data"
        }
      ],
      "source": [
        "plot_bit_inclusions(pop, extra)"
      ]
    },
    {
      "cell_type": "code",
      "execution_count": null,
      "metadata": {
        "colab": {
          "base_uri": "https://localhost:8080/",
          "height": 467
        },
        "id": "fRTJtAxI6tgp",
        "outputId": "69d5e040-ddc3-4d31-e4e6-0634c2abb8e5"
      },
      "outputs": [
        {
          "data": {
            "image/png": "[encoded data removed]",
            "text/plain": [
              "<Figure size 720x504 with 1 Axes>"
            ]
          },
          "metadata": {
            "needs_background": "light"
          },
          "output_type": "display_data"
        }
      ],
      "source": [
        "plot_masked_prob(pop, evaluator, extra)"
      ]
    },
    {
      "cell_type": "code",
      "execution_count": null,
      "metadata": {
        "colab": {
          "base_uri": "https://localhost:8080/"
        },
        "id": "tQ5bVA-jHBOP",
        "outputId": "6b3404b2-cf36-496b-8c54-255108822d1a"
      },
      "outputs": [
        {
          "data": {
            "text/plain": [
              "array([  20,    0,    2,    2,    0,    0, 1282,   12,    4])"
            ]
          },
          "execution_count": 104,
          "metadata": {},
          "output_type": "execute_result"
        }
      ],
      "source": [
        "evaluator.x_orig"
      ]
    },
    {
      "cell_type": "code",
      "execution_count": null,
      "metadata": {
        "colab": {
          "base_uri": "https://localhost:8080/"
        },
        "id": "zmy1SDKd1smW",
        "outputId": "f5354709-9c68-4a12-8eab-02b95229b88e"
      },
      "outputs": [
        {
          "data": {
            "text/plain": [
              "array([[0, 0, 0, 0, 1, 0, 1, 1, 0],\n",
              "       [0, 1, 0, 0, 1, 0, 1, 1, 0],\n",
              "       [0, 0, 0, 0, 1, 1, 1, 1, 0],\n",
              "       [0, 0, 0, 1, 1, 0, 1, 1, 0],\n",
              "       [0, 1, 0, 0, 1, 1, 1, 1, 0],\n",
              "       [0, 0, 1, 0, 1, 0, 1, 1, 0],\n",
              "       [0, 0, 0, 0, 1, 0, 1, 1, 1],\n",
              "       [0, 0, 0, 1, 1, 1, 1, 1, 0],\n",
              "       [0, 0, 1, 0, 1, 0, 0, 1, 0],\n",
              "       [1, 0, 0, 0, 1, 0, 1, 1, 0]], dtype=int32)"
            ]
          },
          "execution_count": 105,
          "metadata": {},
          "output_type": "execute_result"
        }
      ],
      "source": [
        "pop.pop[\"bit\"][pop.get_best(10, \"bit\")]"
      ]
    },
    {
      "cell_type": "code",
      "execution_count": null,
      "metadata": {
        "colab": {
          "base_uri": "https://localhost:8080/"
        },
        "id": "3qQme-2y1h-F",
        "outputId": "b22c7cab-6345-4367-f2b7-9d05e4041f5a"
      },
      "outputs": [
        {
          "data": {
            "text/plain": [
              "array([[   19,     0,     2,     2,     0,     0, 10765,    40,     4],\n",
              "       [   30,     0,     2,     0,     3,     0,  1800,    63,     4],\n",
              "       [   33,     0,     2,     2,     2,     0, 13932,    15,     0],\n",
              "       [   33,     0,     3,     2,     4,     0,  5141,    65,     0],\n",
              "       [   41,     0,     2,     0,     3,     0,  8834,    52,     4],\n",
              "       [   23,     0,     3,     2,     1,     0,   856,    52,     3],\n",
              "       [   20,     1,     2,     2,     1,     3, 16049,    21,     0],\n",
              "       [   55,     0,     1,     0,     4,     0, 12585,    41,     4],\n",
              "       [   23,     0,     2,     2,     0,     0,  3409,    53,     1],\n",
              "       [   60,     0,     3,     0,     4,     0,  6012,    51,     7]],\n",
              "      dtype=int32)"
            ]
          },
          "execution_count": 106,
          "metadata": {},
          "output_type": "execute_result"
        }
      ],
      "source": [
        "pop.pop[\"cf\"][pop.get_best(10, \"cf\")]"
      ]
    },
    {
      "cell_type": "code",
      "execution_count": null,
      "metadata": {
        "colab": {
          "base_uri": "https://localhost:8080/"
        },
        "id": "3aFVkaJb_6GH",
        "outputId": "6a4e91f7-eb9e-42ca-a9f5-01f702a05c5a"
      },
      "outputs": [
        {
          "data": {
            "text/plain": [
              "array([[0.435, 0.565]])"
            ]
          },
          "execution_count": 78,
          "metadata": {},
          "output_type": "execute_result"
        }
      ],
      "source": [
        "model.predict_proba(x_test[4].reshape(1,-1))"
      ]
    },
    {
      "cell_type": "code",
      "execution_count": null,
      "metadata": {
        "colab": {
          "base_uri": "https://localhost:8080/"
        },
        "id": "MMhKiVnsApLn",
        "outputId": "4531f40c-a915-4397-a390-d9fec0657768"
      },
      "outputs": [
        {
          "data": {
            "text/plain": [
              "array([  20,    0,    2,    2,    0,    0, 1282,   12,    4])"
            ]
          },
          "execution_count": 79,
          "metadata": {},
          "output_type": "execute_result"
        }
      ],
      "source": [
        "x_test[4]"
      ]
    },
    {
      "cell_type": "markdown",
      "metadata": {
        "id": "yLQcAPhj3pQX"
      },
      "source": [
        "## Single Examples - DiCE"
      ]
    },
    {
      "cell_type": "code",
      "execution_count": null,
      "metadata": {
        "colab": {
          "base_uri": "https://localhost:8080/",
          "height": 206
        },
        "id": "IwZFs8x84cwa",
        "outputId": "cc756a06-9ad6-41c9-bbb0-c722c5f2865f"
      },
      "outputs": [
        {
          "data": {
            "text/html": [
              "\n",
              "  <div id=\"df-9cba2c26-8df5-4dc3-8a44-517c058cfa18\">\n",
              "    <div class=\"colab-df-container\">\n",
              "      <div>\n",
              "<style scoped>\n",
              "    .dataframe tbody tr th:only-of-type {\n",
              "        vertical-align: middle;\n",
              "    }\n",
              "\n",
              "    .dataframe tbody tr th {\n",
              "        vertical-align: top;\n",
              "    }\n",
              "\n",
              "    .dataframe thead th {\n",
              "        text-align: right;\n",
              "    }\n",
              "</style>\n",
              "<table border=\"1\" class=\"dataframe\">\n",
              "  <thead>\n",
              "    <tr style=\"text-align: right;\">\n",
              "      <th></th>\n",
              "      <th>Age</th>\n",
              "      <th>Sex</th>\n",
              "      <th>Job</th>\n",
              "      <th>Housing</th>\n",
              "      <th>Saving accounts</th>\n",
              "      <th>Checking account</th>\n",
              "      <th>Credit amount</th>\n",
              "      <th>Duration</th>\n",
              "      <th>Purpose</th>\n",
              "      <th>Risk</th>\n",
              "    </tr>\n",
              "  </thead>\n",
              "  <tbody>\n",
              "    <tr>\n",
              "      <th>0</th>\n",
              "      <td>67</td>\n",
              "      <td>1</td>\n",
              "      <td>2</td>\n",
              "      <td>1</td>\n",
              "      <td>4</td>\n",
              "      <td>0</td>\n",
              "      <td>1169</td>\n",
              "      <td>6</td>\n",
              "      <td>5</td>\n",
              "      <td>1</td>\n",
              "    </tr>\n",
              "    <tr>\n",
              "      <th>1</th>\n",
              "      <td>22</td>\n",
              "      <td>0</td>\n",
              "      <td>2</td>\n",
              "      <td>1</td>\n",
              "      <td>0</td>\n",
              "      <td>1</td>\n",
              "      <td>5951</td>\n",
              "      <td>48</td>\n",
              "      <td>5</td>\n",
              "      <td>0</td>\n",
              "    </tr>\n",
              "    <tr>\n",
              "      <th>2</th>\n",
              "      <td>49</td>\n",
              "      <td>1</td>\n",
              "      <td>1</td>\n",
              "      <td>1</td>\n",
              "      <td>0</td>\n",
              "      <td>3</td>\n",
              "      <td>2096</td>\n",
              "      <td>12</td>\n",
              "      <td>3</td>\n",
              "      <td>1</td>\n",
              "    </tr>\n",
              "    <tr>\n",
              "      <th>3</th>\n",
              "      <td>45</td>\n",
              "      <td>1</td>\n",
              "      <td>2</td>\n",
              "      <td>0</td>\n",
              "      <td>0</td>\n",
              "      <td>0</td>\n",
              "      <td>7882</td>\n",
              "      <td>42</td>\n",
              "      <td>4</td>\n",
              "      <td>1</td>\n",
              "    </tr>\n",
              "    <tr>\n",
              "      <th>4</th>\n",
              "      <td>53</td>\n",
              "      <td>1</td>\n",
              "      <td>2</td>\n",
              "      <td>0</td>\n",
              "      <td>0</td>\n",
              "      <td>0</td>\n",
              "      <td>4870</td>\n",
              "      <td>24</td>\n",
              "      <td>1</td>\n",
              "      <td>0</td>\n",
              "    </tr>\n",
              "  </tbody>\n",
              "</table>\n",
              "</div>\n",
              "      <button class=\"colab-df-convert\" onclick=\"convertToInteractive('df-9cba2c26-8df5-4dc3-8a44-517c058cfa18')\"\n",
              "              title=\"Convert this dataframe to an interactive table.\"\n",
              "              style=\"display:none;\">\n",
              "        \n",
              "  <svg xmlns=\"http://www.w3.org/2000/svg\" height=\"24px\"viewBox=\"0 0 24 24\"\n",
              "       width=\"24px\">\n",
              "    <path d=\"M0 0h24v24H0V0z\" fill=\"none\"/>\n",
              "    <path d=\"M18.56 5.44l.94 2.06.94-2.06 2.06-.94-2.06-.94-.94-2.06-.94 2.06-2.06.94zm-11 1L8.5 8.5l.94-2.06 2.06-.94-2.06-.94L8.5 2.5l-.94 2.06-2.06.94zm10 10l.94 2.06.94-2.06 2.06-.94-2.06-.94-.94-2.06-.94 2.06-2.06.94z\"/><path d=\"M17.41 7.96l-1.37-1.37c-.4-.4-.92-.59-1.43-.59-.52 0-1.04.2-1.43.59L10.3 9.45l-7.72 7.72c-.78.78-.78 2.05 0 2.83L4 21.41c.39.39.9.59 1.41.59.51 0 1.02-.2 1.41-.59l7.78-7.78 2.81-2.81c.8-.78.8-2.07 0-2.86zM5.41 20L4 18.59l7.72-7.72 1.47 1.35L5.41 20z\"/>\n",
              "  </svg>\n",
              "      </button>\n",
              "      \n",
              "  <style>\n",
              "    .colab-df-container {\n",
              "      display:flex;\n",
              "      flex-wrap:wrap;\n",
              "      gap: 12px;\n",
              "    }\n",
              "\n",
              "    .colab-df-convert {\n",
              "      background-color: #E8F0FE;\n",
              "      border: none;\n",
              "      border-radius: 50%;\n",
              "      cursor: pointer;\n",
              "      display: none;\n",
              "      fill: #1967D2;\n",
              "      height: 32px;\n",
              "      padding: 0 0 0 0;\n",
              "      width: 32px;\n",
              "    }\n",
              "\n",
              "    .colab-df-convert:hover {\n",
              "      background-color: #E2EBFA;\n",
              "      box-shadow: 0px 1px 2px rgba(60, 64, 67, 0.3), 0px 1px 3px 1px rgba(60, 64, 67, 0.15);\n",
              "      fill: #174EA6;\n",
              "    }\n",
              "\n",
              "    [theme=dark] .colab-df-convert {\n",
              "      background-color: #3B4455;\n",
              "      fill: #D2E3FC;\n",
              "    }\n",
              "\n",
              "    [theme=dark] .colab-df-convert:hover {\n",
              "      background-color: #434B5C;\n",
              "      box-shadow: 0px 1px 3px 1px rgba(0, 0, 0, 0.15);\n",
              "      filter: drop-shadow(0px 1px 2px rgba(0, 0, 0, 0.3));\n",
              "      fill: #FFFFFF;\n",
              "    }\n",
              "  </style>\n",
              "\n",
              "      <script>\n",
              "        const buttonEl =\n",
              "          document.querySelector('#df-9cba2c26-8df5-4dc3-8a44-517c058cfa18 button.colab-df-convert');\n",
              "        buttonEl.style.display =\n",
              "          google.colab.kernel.accessAllowed ? 'block' : 'none';\n",
              "\n",
              "        async function convertToInteractive(key) {\n",
              "          const element = document.querySelector('#df-9cba2c26-8df5-4dc3-8a44-517c058cfa18');\n",
              "          const dataTable =\n",
              "            await google.colab.kernel.invokeFunction('convertToInteractive',\n",
              "                                                     [key], {});\n",
              "          if (!dataTable) return;\n",
              "\n",
              "          const docLinkHtml = 'Like what you see? Visit the ' +\n",
              "            '<a target=\"_blank\" href=https://colab.research.google.com/notebooks/data_table.ipynb>data table notebook</a>'\n",
              "            + ' to learn more about interactive tables.';\n",
              "          element.innerHTML = '';\n",
              "          dataTable['output_type'] = 'display_data';\n",
              "          await google.colab.output.renderOutput(dataTable, element);\n",
              "          const docLink = document.createElement('div');\n",
              "          docLink.innerHTML = docLinkHtml;\n",
              "          element.appendChild(docLink);\n",
              "        }\n",
              "      </script>\n",
              "    </div>\n",
              "  </div>\n",
              "  "
            ],
            "text/plain": [
              "   Age  Sex  Job  Housing  Saving accounts  Checking account  Credit amount  \\\n",
              "0   67    1    2        1                4                 0           1169   \n",
              "1   22    0    2        1                0                 1           5951   \n",
              "2   49    1    1        1                0                 3           2096   \n",
              "3   45    1    2        0                0                 0           7882   \n",
              "4   53    1    2        0                0                 0           4870   \n",
              "\n",
              "   Duration  Purpose  Risk  \n",
              "0         6        5     1  \n",
              "1        48        5     0  \n",
              "2        12        3     1  \n",
              "3        42        4     1  \n",
              "4        24        1     0  "
            ]
          },
          "execution_count": 7,
          "metadata": {},
          "output_type": "execute_result"
        }
      ],
      "source": [
        "data.head()"
      ]
    },
    {
      "cell_type": "code",
      "execution_count": null,
      "metadata": {
        "id": "e_UH7dV-36kZ"
      },
      "outputs": [],
      "source": [
        "import dice_ml  \n",
        "\n",
        "d = dice_ml.Data(dataframe=data,\n",
        "                 continuous_features=[\"Age\", \"Credit amount\", \"Duration\"],\n",
        "                 discrete_features = [\"Sex\", \"Job\", \"Housing\", \"Savings accounts\", \"Checking account\", \"Purpose\"],\n",
        "                 outcome_name=\"Risk\")\n",
        "\n",
        "\n",
        "dice_model = dice_ml.Model(model=model, backend=\"sklearn\") "
      ]
    },
    {
      "cell_type": "code",
      "execution_count": null,
      "metadata": {
        "id": "QfFXx4oQ50b3"
      },
      "outputs": [],
      "source": [
        "point = pd.DataFrame(x_test[4].reshape(1,-1), columns=data.iloc[:, :-1].columns)"
      ]
    },
    {
      "cell_type": "code",
      "execution_count": null,
      "metadata": {
        "colab": {
          "base_uri": "https://localhost:8080/"
        },
        "id": "7UNdJg_j5ItC",
        "outputId": "83ae3aee-89ae-470b-b55d-2c30adb26662"
      },
      "outputs": [
        {
          "name": "stderr",
          "output_type": "stream",
          "text": [
            "\r  0%|          | 0/1 [00:00<?, ?it/s]/usr/local/lib/python3.8/dist-packages/sklearn/base.py:443: UserWarning: X has feature names, but RandomForestClassifier was fitted without feature names\n",
            "  warnings.warn(\n",
            "/usr/local/lib/python3.8/dist-packages/sklearn/base.py:443: UserWarning: X has feature names, but RandomForestClassifier was fitted without feature names\n",
            "  warnings.warn(\n",
            "/usr/local/lib/python3.8/dist-packages/sklearn/base.py:443: UserWarning: X has feature names, but RandomForestClassifier was fitted without feature names\n",
            "  warnings.warn(\n",
            "/usr/local/lib/python3.8/dist-packages/sklearn/base.py:443: UserWarning: X has feature names, but RandomForestClassifier was fitted without feature names\n",
            "  warnings.warn(\n",
            "/usr/local/lib/python3.8/dist-packages/sklearn/base.py:443: UserWarning: X has feature names, but RandomForestClassifier was fitted without feature names\n",
            "  warnings.warn(\n",
            "/usr/local/lib/python3.8/dist-packages/sklearn/base.py:443: UserWarning: X has feature names, but RandomForestClassifier was fitted without feature names\n",
            "  warnings.warn(\n",
            "/usr/local/lib/python3.8/dist-packages/sklearn/base.py:443: UserWarning: X has feature names, but RandomForestClassifier was fitted without feature names\n",
            "  warnings.warn(\n",
            "/usr/local/lib/python3.8/dist-packages/sklearn/base.py:443: UserWarning: X has feature names, but RandomForestClassifier was fitted without feature names\n",
            "  warnings.warn(\n",
            "/usr/local/lib/python3.8/dist-packages/sklearn/base.py:443: UserWarning: X has feature names, but RandomForestClassifier was fitted without feature names\n",
            "  warnings.warn(\n",
            "/usr/local/lib/python3.8/dist-packages/sklearn/base.py:443: UserWarning: X has feature names, but RandomForestClassifier was fitted without feature names\n",
            "  warnings.warn(\n",
            "/usr/local/lib/python3.8/dist-packages/sklearn/base.py:443: UserWarning: X has feature names, but RandomForestClassifier was fitted without feature names\n",
            "  warnings.warn(\n",
            "/usr/local/lib/python3.8/dist-packages/sklearn/base.py:443: UserWarning: X has feature names, but RandomForestClassifier was fitted without feature names\n",
            "  warnings.warn(\n",
            "/usr/local/lib/python3.8/dist-packages/sklearn/base.py:443: UserWarning: X has feature names, but RandomForestClassifier was fitted without feature names\n",
            "  warnings.warn(\n",
            "/usr/local/lib/python3.8/dist-packages/sklearn/base.py:443: UserWarning: X has feature names, but RandomForestClassifier was fitted without feature names\n",
            "  warnings.warn(\n",
            "100%|██████████| 1/1 [00:01<00:00,  1.79s/it]"
          ]
        },
        {
          "name": "stdout",
          "output_type": "stream",
          "text": [
            "Diverse Counterfactuals found! total time taken: 00 min 01 sec\n"
          ]
        },
        {
          "name": "stderr",
          "output_type": "stream",
          "text": [
            "\n"
          ]
        }
      ],
      "source": [
        "exp_random = dice_ml.Dice(d, dice_model, method=\"random\") \n",
        "\n",
        "dice_exp_random = exp_random.generate_counterfactuals(point, total_CFs=5, desired_class=0, verbose=True)"
      ]
    },
    {
      "cell_type": "code",
      "execution_count": null,
      "metadata": {
        "colab": {
          "base_uri": "https://localhost:8080/"
        },
        "id": "iTPUyelm8FLy",
        "outputId": "33db1f73-093b-435d-e522-5c7650c817d4"
      },
      "outputs": [
        {
          "data": {
            "text/plain": [
              "array([[  20,    0,    2,    2,    0,    0, 1282,   12,    4]])"
            ]
          },
          "execution_count": 88,
          "metadata": {},
          "output_type": "execute_result"
        }
      ],
      "source": [
        "point.values"
      ]
    },
    {
      "cell_type": "code",
      "execution_count": null,
      "metadata": {
        "colab": {
          "base_uri": "https://localhost:8080/"
        },
        "id": "NuPy7a5k7Uuf",
        "outputId": "a7680929-2c41-466a-d8bb-acda833c96ee"
      },
      "outputs": [
        {
          "data": {
            "text/plain": [
              "array([[   20,     0,     0,     2,     0,     0,  1282,    69,     4,\n",
              "            0],\n",
              "       [   20,     0,     2,     2,     0,     0, 12230,    12,     4,\n",
              "            0],\n",
              "       [   20,     0,     2,     2,     3,     0, 18336,    12,     4,\n",
              "            0],\n",
              "       [   20,     0,     2,     2,     0,     0, 17464,    12,     4,\n",
              "            0],\n",
              "       [   20,     0,     2,     2,     2,     0, 18233,    12,     4,\n",
              "            0]])"
            ]
          },
          "execution_count": 92,
          "metadata": {},
          "output_type": "execute_result"
        }
      ],
      "source": [
        "dice_exp_random.cf_examples_list[0].final_cfs_df.values"
      ]
    },
    {
      "cell_type": "markdown",
      "metadata": {
        "id": "JIk4wsbU0AoL"
      },
      "source": [
        "## Aggregation"
      ]
    },
    {
      "cell_type": "code",
      "execution_count": null,
      "metadata": {
        "colab": {
          "base_uri": "https://localhost:8080/"
        },
        "id": "SqapXGJJ0GrA",
        "outputId": "4dac55af-3fad-4dd5-abe6-95af506674ee"
      },
      "outputs": [
        {
          "data": {
            "text/plain": [
              "array([1, 1, 1, 1, 1, 1, 1, 1, 1, 1])"
            ]
          },
          "execution_count": 121,
          "metadata": {},
          "output_type": "execute_result"
        }
      ],
      "source": [
        "test_rng = np.random.default_rng(453)\n",
        "random_sample = test_rng.choice(x_test[np.where(y_pred == 0)[0]], size=(10, ), replace=False)\n",
        "test_desired_class = np.argmin(model.predict_proba(random_sample), axis=1)\n",
        "test_desired_class"
      ]
    },
    {
      "cell_type": "code",
      "execution_count": null,
      "metadata": {
        "colab": {
          "base_uri": "https://localhost:8080/"
        },
        "id": "yIhX7G9bz_Ww",
        "outputId": "d019ae28-c3af-424f-c0f7-45eabe874df4"
      },
      "outputs": [],
      "source": [
        "all_bit_masks = np.full((1, 9), np.inf)\n",
        "\n",
        "for x_orig, desired_class in zip(random_sample, test_desired_class):\n",
        "\n",
        "  pop = Population(pop_size=30,\n",
        "                  num_dim=9,\n",
        "                  compute_bound_on=X.values,\n",
        "                  seed=192)\n",
        "\n",
        "  evaluator = Evaluator(x_orig=random_sample,\n",
        "                        desired_class=desired_class,\n",
        "                        model_predict=model.predict_proba,\n",
        "                        compute_MAD_on=X.values)\n",
        "\n",
        "  reproducer = Reproducer(Pc=0.95,\n",
        "                          Pm=0.3,\n",
        "                          eta=15,\n",
        "                          seed=192)\n",
        "\n",
        "  reproducer.set_pop_params(pop)\n",
        "\n",
        "  pop = genetic_algorithm(pop, evaluator, reproducer, num_gen=50, num_mating=-1)\n",
        "\n",
        "  all_bit_masks = np.concatenate((all_bit_masks, pop.pop[\"bit\"][pop.get_best(10, \"bit\")].copy()), axis=0)"
      ]
    },
    {
      "cell_type": "code",
      "execution_count": null,
      "metadata": {
        "colab": {
          "base_uri": "https://localhost:8080/"
        },
        "id": "GQJ1Zj57XceA",
        "outputId": "de503ba5-2619-4301-c785-f98c4e4d9510"
      },
      "outputs": [
        {
          "data": {
            "text/plain": [
              "array([50., 41., 44., 26., 43., 87., 35., 20., 34.])"
            ]
          },
          "execution_count": 116,
          "metadata": {},
          "output_type": "execute_result"
        }
      ],
      "source": [
        "np.sum(np.delete(all_bit_masks, 0, axis=0), axis=0)"
      ]
    },
    {
      "cell_type": "code",
      "execution_count": null,
      "metadata": {
        "id": "eO9el5oZYGDc"
      },
      "outputs": [],
      "source": [
        "def plot_bit_inclusions(feature_counts, extra):\n",
        "  sort_index = np.argsort(feature_counts)\n",
        "\n",
        "  fig, ax = plt.subplots(1, figsize=(10,7))\n",
        "  plt.barh(np.arange(9), feature_counts[sort_index], color=\"darkorange\")\n",
        "  plt.yticks(np.arange(9), columns[sort_index])\n",
        "  plt.xlabel(\"Times Marked as Non-Protected\", fontweight=\"bold\", fontsize=12)\n",
        "  plt.ylabel(\"Feature\", fontweight=\"bold\", fontsize=12)\n",
        "  plt.title(f\"Aggregated Inclusions For Top 10 Feature Mask\", fontweight=\"bold\", fontsize=14)\n",
        "  plt.text(10.6, 6.4, extra, ha=\"left\")\n",
        "  plt.show()\n",
        "  return"
      ]
    },
    {
      "cell_type": "code",
      "execution_count": null,
      "metadata": {
        "colab": {
          "base_uri": "https://localhost:8080/",
          "height": 462
        },
        "id": "t7hm-yoeYMfW",
        "outputId": "4d6ee02b-3b89-43b5-e186-2ad3010f8373"
      },
      "outputs": [
        {
          "data": {
            "image/png": "[encoded data removed]",
            "text/plain": [
              "<Figure size 720x504 with 1 Axes>"
            ]
          },
          "metadata": {
            "needs_background": "light"
          },
          "output_type": "display_data"
        }
      ],
      "source": [
        "plot_bit_inclusions(np.sum(np.delete(all_bit_masks, 0, axis=0), axis=0), \"\")"
      ]
    }
  ],
  "metadata": {
    "colab": {
      "collapsed_sections": [
        "5W5FAX9262oe",
        "j3itVs_Y6NY1",
        "0NHG_Q5-6MUD",
        "uyZI_OmNFrpk",
        "QGUf2k9UJH_n",
        "XZ01YFMCjJlh"
      ],
      "provenance": [],
      "toc_visible": true
    },
    "kernelspec": {
      "display_name": "Python 3",
      "name": "python3"
    },
    "language_info": {
      "name": "python"
    }
  },
  "nbformat": 4,
  "nbformat_minor": 0
}
